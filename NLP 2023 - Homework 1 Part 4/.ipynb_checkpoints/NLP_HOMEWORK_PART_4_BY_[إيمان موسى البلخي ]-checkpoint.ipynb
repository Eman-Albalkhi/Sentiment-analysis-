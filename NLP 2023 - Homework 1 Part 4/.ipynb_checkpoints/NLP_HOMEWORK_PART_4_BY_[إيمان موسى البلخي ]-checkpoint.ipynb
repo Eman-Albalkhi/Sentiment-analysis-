{
 "cells": [
  {
   "cell_type": "markdown",
   "id": "46f519c8",
   "metadata": {
    "id": "46f519c8"
   },
   "source": [
    "إيمان موسى البلخي"
   ]
  },
  {
   "cell_type": "markdown",
   "id": "e7efe140",
   "metadata": {
    "id": "e7efe140"
   },
   "source": [
    "Prepare libraries and data"
   ]
  },
  {
   "cell_type": "code",
   "execution_count": 285,
   "id": "af6058ed",
   "metadata": {
    "id": "af6058ed"
   },
   "outputs": [],
   "source": [
    "# here put every import you need e.g. import nltk\n",
    "import numpy as np\n",
    "import re\n",
    "import pandas as pd\n",
    "from scipy import stats\n",
    "import matplotlib.pyplot as plt\n",
    "from wordcloud import WordCloud\n",
    "import pyarabic.arabrepr\n",
    "from tashaphyne.stemming import ArabicLightStemmer\n",
    "import tashaphyne.arabic_const as arabconst\n",
    "import tashaphyne.arabic_const as arabconst\n",
    "import nltk\n",
    "from nltk import word_tokenize\n",
    "from nltk.tokenize import *\n",
    "from nltk import FreqDist\n",
    "from nltk.corpus import stopwords\n",
    "from nltk.collocations import *\n",
    "import matplotlib.pyplot as plt           \n",
    "import matplotlib\n",
    "from wordcloud import WordCloud\n",
    "import arabic_reshaper\n",
    "from bidi.algorithm import get_display\n",
    "from nltk.stem.lancaster import LancasterStemmer\n",
    "import string"
   ]
  },
  {
   "cell_type": "markdown",
   "id": "3400638b",
   "metadata": {
    "id": "3400638b"
   },
   "source": [
    "# Step [1]: Load the data"
   ]
  },
  {
   "cell_type": "code",
   "execution_count": 286,
   "id": "d41a9612",
   "metadata": {
    "id": "d41a9612"
   },
   "outputs": [
    {
     "name": "stdout",
     "output_type": "stream",
     "text": [
      "Total_tweets:                                     33924\n",
      "\n",
      "Total_tweets after deleting lines containing NAN: 33633\n",
      "\n",
      "Total_tweets after deleting duplicate tweets:     26254\n"
     ]
    },
    {
     "data": {
      "text/html": [
       "<div>\n",
       "<style scoped>\n",
       "    .dataframe tbody tr th:only-of-type {\n",
       "        vertical-align: middle;\n",
       "    }\n",
       "\n",
       "    .dataframe tbody tr th {\n",
       "        vertical-align: top;\n",
       "    }\n",
       "\n",
       "    .dataframe thead th {\n",
       "        text-align: right;\n",
       "    }\n",
       "</style>\n",
       "<table border=\"1\" class=\"dataframe\">\n",
       "  <thead>\n",
       "    <tr style=\"text-align: right;\">\n",
       "      <th></th>\n",
       "      <th>text</th>\n",
       "      <th>label</th>\n",
       "    </tr>\n",
       "  </thead>\n",
       "  <tbody>\n",
       "    <tr>\n",
       "      <th>0</th>\n",
       "      <td>قناة الجزيرة تنقل الاحداث في اوكرانيا وكأنها ت...</td>\n",
       "      <td>positive</td>\n",
       "    </tr>\n",
       "    <tr>\n",
       "      <th>1</th>\n",
       "      <td>@AJABreaking النصر لاوكرانيا البطله الصامده 🔥🔥💪🇺🇦</td>\n",
       "      <td>negative</td>\n",
       "    </tr>\n",
       "    <tr>\n",
       "      <th>2</th>\n",
       "      <td>@ZAINABKADYROV اللله يكون مع روسيا من ثعالب الأرض</td>\n",
       "      <td>positive</td>\n",
       "    </tr>\n",
       "    <tr>\n",
       "      <th>3</th>\n",
       "      <td>جرائم حرب تجري الآن في #أوكرانيا يتحمل مسؤوليت...</td>\n",
       "      <td>negative</td>\n",
       "    </tr>\n",
       "    <tr>\n",
       "      <th>4</th>\n",
       "      <td>إطاله أمد الحرب قليلاً (أسابيع)\\nثم صواريخ أوك...</td>\n",
       "      <td>negative</td>\n",
       "    </tr>\n",
       "  </tbody>\n",
       "</table>\n",
       "</div>"
      ],
      "text/plain": [
       "                                                text     label\n",
       "0  قناة الجزيرة تنقل الاحداث في اوكرانيا وكأنها ت...  positive\n",
       "1  @AJABreaking النصر لاوكرانيا البطله الصامده 🔥🔥💪🇺🇦  negative\n",
       "2  @ZAINABKADYROV اللله يكون مع روسيا من ثعالب الأرض  positive\n",
       "3  جرائم حرب تجري الآن في #أوكرانيا يتحمل مسؤوليت...  negative\n",
       "4  إطاله أمد الحرب قليلاً (أسابيع)\\nثم صواريخ أوك...  negative"
      ]
     },
     "execution_count": 286,
     "metadata": {},
     "output_type": "execute_result"
    }
   ],
   "source": [
    "# your code here\n",
    "dataframe = pd.read_csv('train.csv')\n",
    "\n",
    "#Total_tweets\n",
    "print(\"Total_tweets:                                    \",dataframe.shape[0] )\n",
    "\n",
    "# dropping null value columns to avoid errors\n",
    "dataframe.dropna(inplace = True)\n",
    "print(\"\\nTotal_tweets after deleting lines containing NAN:\",dataframe.shape[0])\n",
    "\n",
    "#Delete duplicate tweets\n",
    "dataframe2=dataframe.drop_duplicates(subset=['text','label'],keep='first')\n",
    "dataframe=dataframe2\n",
    "print(\"\\nTotal_tweets after deleting duplicate tweets:    \",dataframe.shape[0])\n",
    "\n",
    "\n",
    "dataframe.head()\n"
   ]
  },
  {
   "cell_type": "markdown",
   "id": "2f22713d",
   "metadata": {
    "id": "2f22713d"
   },
   "source": [
    "# Step [2]: Text Analysis"
   ]
  },
  {
   "cell_type": "markdown",
   "id": "03ef90d1",
   "metadata": {
    "id": "03ef90d1"
   },
   "source": [
    "## [2.1] \n"
   ]
  },
  {
   "cell_type": "code",
   "execution_count": 287,
   "id": "c1b8c64b",
   "metadata": {
    "id": "c1b8c64b"
   },
   "outputs": [
    {
     "data": {
      "text/plain": [
       "neutral       11559\n",
       "positive       5713\n",
       "negative       5472\n",
       "irrelevent     3510\n",
       "Name: label, dtype: int64"
      ]
     },
     "execution_count": 287,
     "metadata": {},
     "output_type": "execute_result"
    }
   ],
   "source": [
    "#  we are going to count values in Pandas dataframe and then we will count the values of different leable.\n",
    "dataframe['label'].value_counts()\n",
    "\n",
    "dataframe_lable=dataframe['label']\n",
    "\n",
    "#neutral\n",
    "N1='netural'         \n",
    "N2='Neutral' \n",
    "N3='NEUTRAL'         \n",
    "N4='natural' \n",
    "N5='neurtal'           \n",
    "N6=' neutral'\n",
    "\n",
    "# negative\n",
    "n1='Negative'\n",
    "n2='NEGATIVE' \n",
    "n3='negtive'\n",
    "\n",
    "# positive\n",
    "p1='Positive'        \n",
    "p2='positve'       \n",
    "p3='postive'\n",
    "p4='POSITIVE'         \n",
    "p5='positiive'\n",
    "p6=' positive'\n",
    "p7='positive '\n",
    "\n",
    "# irrelevent\n",
    "I1='Irrelevant'\n",
    "I2='Irrelevent'      \n",
    "I3='IRRELEVENT' \n",
    "I4='irrevant'         \n",
    "I5='irrelevant' \n",
    "\n",
    "for i in dataframe_lable.index :\n",
    "\n",
    "    if dataframe_lable[i]==N1 :\n",
    "        dataframe_lable[i]='neutral'\n",
    "    elif dataframe_lable[i]==N2 :\n",
    "        dataframe_lable[i]='neutral'\n",
    "    elif dataframe_lable[i]==N3 :\n",
    "        dataframe_lable[i]='neutral'\n",
    "    elif dataframe_lable[i]==N4 :\n",
    "        dataframe_lable[i]='neutral'\n",
    "    elif dataframe_lable[i]==N5 :\n",
    "        dataframe_lable[i]='neutral'\n",
    "    elif dataframe_lable[i]==N6 :\n",
    "        dataframe_lable[i]='neutral'\n",
    "    \n",
    "        \n",
    "    elif dataframe_lable[i]==n1:\n",
    "        dataframe_lable[i]='negative'\n",
    "    elif dataframe_lable[i]==n2:\n",
    "        dataframe_lable[i]='negative'\n",
    "    elif dataframe_lable[i]==n3:\n",
    "        dataframe_lable[i]='negative'\n",
    "\n",
    "        \n",
    "    elif dataframe_lable[i]==p1: \n",
    "        dataframe_lable[i]='positive'\n",
    "    elif dataframe_lable[i]==p2: \n",
    "        dataframe_lable[i]='positive'\n",
    "    elif dataframe_lable[i]==p3: \n",
    "        dataframe_lable[i]='positive'\n",
    "    elif dataframe_lable[i]==p4: \n",
    "        dataframe_lable[i]='positive'\n",
    "    elif dataframe_lable[i]==p5: \n",
    "        dataframe_lable[i]='positive'\n",
    "    elif dataframe_lable[i]==p6: \n",
    "        dataframe_lable[i]='positive'\n",
    "    elif dataframe_lable[i]==p7: \n",
    "        dataframe_lable[i]='positive'\n",
    "   \n",
    "        \n",
    "    elif dataframe_lable[i]==I1:\n",
    "        dataframe_lable[i]='irrelevent'\n",
    "    elif dataframe_lable[i]==I2:\n",
    "        dataframe_lable[i]='irrelevent'\n",
    "    elif dataframe_lable[i]==I3:\n",
    "        dataframe_lable[i]='irrelevent'\n",
    "    elif dataframe_lable[i]==I4:\n",
    "        dataframe_lable[i]='irrelevent'\n",
    "    elif dataframe_lable[i]==I5:\n",
    "        dataframe_lable[i]='irrelevent'\n",
    "        \n",
    "\n",
    "dataframe['label']=dataframe_lable\n",
    "dataframe['label'].value_counts()\n"
   ]
  },
  {
   "cell_type": "markdown",
   "id": "24164796",
   "metadata": {
    "id": "24164796"
   },
   "source": [
    "## [2.2] "
   ]
  },
  {
   "cell_type": "code",
   "execution_count": 288,
   "id": "SexYXq1-P0Y0",
   "metadata": {
    "id": "SexYXq1-P0Y0"
   },
   "outputs": [
    {
     "name": "stdout",
     "output_type": "stream",
     "text": [
      "neutral       11559\n",
      "positive       5713\n",
      "negative       5472\n",
      "irrelevent     3510\n",
      "Name: label, dtype: int64\n",
      "\n",
      "\n"
     ]
    },
    {
     "data": {
      "image/png": "[encoded data removed]",
      "text/plain": [
       "<Figure size 432x288 with 1 Axes>"
      ]
     },
     "metadata": {},
     "output_type": "display_data"
    }
   ],
   "source": [
    "data=dataframe['label'].value_counts()\n",
    "print(data)\n",
    "print('\\n')\n",
    "\n",
    "plt.pie(data, labels = data.index)\n",
    "#Adding the aesthetics\n",
    "plt.title('Chart title')\n",
    "#Show the plot\n",
    "plt.show()\n",
    "\n",
    "\n"
   ]
  },
  {
   "cell_type": "markdown",
   "id": "KFerFDFqPwPI",
   "metadata": {
    "id": "KFerFDFqPwPI"
   },
   "source": [
    "## [2.3] "
   ]
  },
  {
   "cell_type": "code",
   "execution_count": 290,
   "id": "0a89bbea",
   "metadata": {},
   "outputs": [],
   "source": [
    "# Flattening lists means: converting multidimensional lists into one-dimensional lists. \n",
    "def flatten_list(text):\n",
    "    flat_list = []\n",
    "    for i in text:\n",
    "        if type(i) is list:\n",
    "            for item in i:\n",
    "                flat_list.append(item)\n",
    "        else:\n",
    "            flat_list.append(i)\n",
    "    return flat_list"
   ]
  },
  {
   "cell_type": "code",
   "execution_count": 289,
   "id": "zU65GmMbP2Sm",
   "metadata": {
    "id": "zU65GmMbP2Sm"
   },
   "outputs": [
    {
     "name": "stdout",
     "output_type": "stream",
     "text": [
      "0    [قناة, الجزيرة, تنقل, الاحداث, في, اوكرانيا, و...\n",
      "1    [@, AJABreaking, النصر, لاوكرانيا, البطله, الص...\n",
      "2    [@, ZAINABKADYROV, اللله, يكون, مع, روسيا, من,...\n",
      "3    [جرائم, حرب, تجري, الآن, في, #, أوكرانيا, يتحم...\n",
      "4    [إطاله, أمد, الحرب, قليلاً, (, أسابيع, ), ثم, ...\n",
      "Name: Text_tokenz, dtype: object\n",
      "\n",
      "Total word count :  784336\n",
      "\n",
      "vocabulary number :  98324\n"
     ]
    },
    {
     "data": {
      "text/html": [
       "<div>\n",
       "<style scoped>\n",
       "    .dataframe tbody tr th:only-of-type {\n",
       "        vertical-align: middle;\n",
       "    }\n",
       "\n",
       "    .dataframe tbody tr th {\n",
       "        vertical-align: top;\n",
       "    }\n",
       "\n",
       "    .dataframe thead th {\n",
       "        text-align: right;\n",
       "    }\n",
       "</style>\n",
       "<table border=\"1\" class=\"dataframe\">\n",
       "  <thead>\n",
       "    <tr style=\"text-align: right;\">\n",
       "      <th></th>\n",
       "      <th>text</th>\n",
       "      <th>label</th>\n",
       "      <th>Text_tokenz</th>\n",
       "    </tr>\n",
       "  </thead>\n",
       "  <tbody>\n",
       "    <tr>\n",
       "      <th>0</th>\n",
       "      <td>قناة الجزيرة تنقل الاحداث في اوكرانيا وكأنها ت...</td>\n",
       "      <td>positive</td>\n",
       "      <td>[قناة, الجزيرة, تنقل, الاحداث, في, اوكرانيا, و...</td>\n",
       "    </tr>\n",
       "    <tr>\n",
       "      <th>1</th>\n",
       "      <td>@AJABreaking النصر لاوكرانيا البطله الصامده 🔥🔥💪🇺🇦</td>\n",
       "      <td>negative</td>\n",
       "      <td>[@, AJABreaking, النصر, لاوكرانيا, البطله, الص...</td>\n",
       "    </tr>\n",
       "    <tr>\n",
       "      <th>2</th>\n",
       "      <td>@ZAINABKADYROV اللله يكون مع روسيا من ثعالب الأرض</td>\n",
       "      <td>positive</td>\n",
       "      <td>[@, ZAINABKADYROV, اللله, يكون, مع, روسيا, من,...</td>\n",
       "    </tr>\n",
       "    <tr>\n",
       "      <th>3</th>\n",
       "      <td>جرائم حرب تجري الآن في #أوكرانيا يتحمل مسؤوليت...</td>\n",
       "      <td>negative</td>\n",
       "      <td>[جرائم, حرب, تجري, الآن, في, #, أوكرانيا, يتحم...</td>\n",
       "    </tr>\n",
       "    <tr>\n",
       "      <th>4</th>\n",
       "      <td>إطاله أمد الحرب قليلاً (أسابيع)\\nثم صواريخ أوك...</td>\n",
       "      <td>negative</td>\n",
       "      <td>[إطاله, أمد, الحرب, قليلاً, (, أسابيع, ), ثم, ...</td>\n",
       "    </tr>\n",
       "  </tbody>\n",
       "</table>\n",
       "</div>"
      ],
      "text/plain": [
       "                                                text     label  \\\n",
       "0  قناة الجزيرة تنقل الاحداث في اوكرانيا وكأنها ت...  positive   \n",
       "1  @AJABreaking النصر لاوكرانيا البطله الصامده 🔥🔥💪🇺🇦  negative   \n",
       "2  @ZAINABKADYROV اللله يكون مع روسيا من ثعالب الأرض  positive   \n",
       "3  جرائم حرب تجري الآن في #أوكرانيا يتحمل مسؤوليت...  negative   \n",
       "4  إطاله أمد الحرب قليلاً (أسابيع)\\nثم صواريخ أوك...  negative   \n",
       "\n",
       "                                         Text_tokenz  \n",
       "0  [قناة, الجزيرة, تنقل, الاحداث, في, اوكرانيا, و...  \n",
       "1  [@, AJABreaking, النصر, لاوكرانيا, البطله, الص...  \n",
       "2  [@, ZAINABKADYROV, اللله, يكون, مع, روسيا, من,...  \n",
       "3  [جرائم, حرب, تجري, الآن, في, #, أوكرانيا, يتحم...  \n",
       "4  [إطاله, أمد, الحرب, قليلاً, (, أسابيع, ), ثم, ...  "
      ]
     },
     "execution_count": 289,
     "metadata": {},
     "output_type": "execute_result"
    }
   ],
   "source": [
    "# Create a new column ' Text_tokenz'  Contain list token \n",
    "dataframe['Text_tokenz']=dataframe['text'].apply(lambda x: nltk.word_tokenize(x))\n",
    "print(dataframe['Text_tokenz'].head(5))\n",
    "\n",
    "\n",
    "Text_Tokened = []\n",
    "Text_Tokened=dataframe[\"Text_tokenz\"].tolist()\n",
    "\n",
    "list_tweet=dataframe['text'].tolist()\n",
    "\n",
    "flatten_Text_Tokened=flatten_list(Text_Tokened)\n",
    "\n",
    "print(\"\\nTotal word count : \",len(flatten_Text_Tokened))\n",
    "Set_flatten_Text_Tokened=set(flatten_Text_Tokened)\n",
    "\n",
    "print(\"\\nvocabulary number : \",len(Set_flatten_Text_Tokened))\n",
    "\n",
    "dataframe.head()\n",
    "\n",
    "\n"
   ]
  },
  {
   "cell_type": "markdown",
   "id": "-4LEgCtvPwaQ",
   "metadata": {
    "id": "-4LEgCtvPwaQ"
   },
   "source": [
    "## [2.4] "
   ]
  },
  {
   "cell_type": "code",
   "execution_count": 294,
   "id": "27a2e37a",
   "metadata": {},
   "outputs": [],
   "source": [
    "def removeWeirdChars(text):\n",
    "    weirdPatterns = re.compile(\"[\"\n",
    "                               u\"\\U0001F600-\\U0001F64F\"  # emoticons\n",
    "                               u\"\\U0001F300-\\U0001F5FF\"  # symbols & pictographs\n",
    "                               u\"\\U0001F680-\\U0001F6FF\"  # transport & map symbols\n",
    "                               u\"\\U0001F1E0-\\U0001F1FF\"  # flags (iOS)\n",
    "                               u\"\\U00002702-\\U000027B0\"\n",
    "                               u\"\\U000024C2-\\U0001F251\"\n",
    "                               u\"\\U0001f926-\\U0001f937\"\n",
    "                               u'\\U00010000-\\U0010ffff'\n",
    "                               u\"\\u200d\"\n",
    "                               u\"\\u2640-\\u2642\"\n",
    "                               u\"\\u2600-\\u2B55\"\n",
    "                               u\"\\u23cf\"\n",
    "                               u\"\\u23e9\"\n",
    "                               u\"\\u231a\"\n",
    "                               u\"\\u3030\"\n",
    "                               u\"\\ufe0f\"\n",
    "                               u\"\\u2069\"\n",
    "                               u\"\\u2066\"\n",
    "                               u\"\\u200c\"\n",
    "                               u\"\\u2068\"\n",
    "                               u\"\\u2067\"\n",
    "                               \"]+\", flags=re.UNICODE)\n",
    "    return weirdPatterns.sub(r'', text)\n",
    "\n"
   ]
  },
  {
   "cell_type": "code",
   "execution_count": 385,
   "id": "d81d9f99",
   "metadata": {
    "id": "d81d9f99"
   },
   "outputs": [
    {
     "ename": "SyntaxError",
     "evalue": "invalid syntax (<ipython-input-385-8b9ffc16c242>, line 8)",
     "output_type": "error",
     "traceback": [
      "\u001b[1;36m  File \u001b[1;32m\"<ipython-input-385-8b9ffc16c242>\"\u001b[1;36m, line \u001b[1;32m8\u001b[0m\n\u001b[1;33m    wordcloud.to_file(\"arabic_example.png\")\u001b[0m\n\u001b[1;37m    ^\u001b[0m\n\u001b[1;31mSyntaxError\u001b[0m\u001b[1;31m:\u001b[0m invalid syntax\n"
     ]
    }
   ],
   "source": [
    "from os import path\n",
    "import codecs\n",
    "from wordcloud import WordCloud\n",
    "import arabic_reshaper\n",
    "from bidi.algorithm import get_display\n",
    "\n",
    "wordcloud = WordCloud(font_path='alfont_com_arial-1.ttf',background_color='white', mode='RGB',width=1500,height=800).generate(removeWeirdChars(flatten_Text_Tokened)\n",
    "wordcloud.to_file(\"arabic_example.png\")\n"
   ]
  },
  {
   "cell_type": "markdown",
   "id": "ZgzDVRqCQ72Q",
   "metadata": {
    "id": "ZgzDVRqCQ72Q"
   },
   "source": [
    "## [2.5] "
   ]
  },
  {
   "cell_type": "code",
   "execution_count": 298,
   "id": "51bb666f",
   "metadata": {},
   "outputs": [],
   "source": [
    "def Frequency__word(Text_Tokened,Number_function):\n",
    "    if Number_function==1:\n",
    "        Frequency_word = nltk.FreqDist(flatten_Text_Tokened)\n",
    "    return pd.DataFrame( Frequency_word.most_common(15), columns=['Word', 'Frequency'])\n",
    "    \n",
    "\n",
    "def hapaxes(Text_Tokened,Number_function):\n",
    "    if Number_function==2:\n",
    "        Frequency_word = nltk.FreqDist(flatten_Text_Tokened)\n",
    "    return Frequency_word.hapaxes()[:10]\n",
    "\n",
    "def pair__of__words(Text_Tokened,Number_function):\n",
    "    if Number_function==3:    \n",
    "        pair_of_words = nltk.bigrams(flatten_Text_Tokened)\n",
    "        Frequency_pair_of_words = nltk.FreqDist(pair_of_words)\n",
    "    return pd.DataFrame(Frequency_pair_of_words.most_common(10), columns=['pair_of_words', 'Frequency'])\n",
    "\n",
    "def Three__words(Text_Tokened,Number_function):\n",
    "    if Number_function==4:\n",
    "        Three_words=[]\n",
    "        for ngram in nltk.ngrams(flatten_Text_Tokened, 3):\n",
    "            Three_words.append(ngram)\n",
    "        Frequency_Three_words = nltk.FreqDist(Three_words)\n",
    "    return pd.DataFrame(Frequency_Three_words.most_common(10), columns=['Three_words', 'Frequency'])\n",
    "    \n",
    "def bigram__measures(Text_Tokened,Number_function):\n",
    "    if Number_function==5:\n",
    "        bigram_measures = nltk.collocations.BigramAssocMeasures()\n",
    "        finder = BigramCollocationFinder.from_words(flatten_Text_Tokened)\n",
    "    return pd.DataFrame(finder.nbest(bigram_measures.pmi, 10), columns=['First', 'Second'])\n",
    "\n",
    "def trigram__measures(Text_Tokened,Number_function):\n",
    "    if Number_function==6:\n",
    "        trigram_measures = nltk.collocations.TrigramAssocMeasures()\n",
    "        finder = TrigramCollocationFinder.from_words(flatten_Text_Tokened)\n",
    "    return pd.DataFrame(finder.nbest(trigram_measures.pmi, 10), columns=['First', 'Second','Third'])"
   ]
  },
  {
   "cell_type": "code",
   "execution_count": 299,
   "id": "2ef0ab1e",
   "metadata": {},
   "outputs": [],
   "source": [
    "def question_5(Text_Tokened,Number_function):\n",
    "    if Number_function==1:\n",
    "        return Frequency__word(Text_Tokened,1)\n",
    "    if Number_function==2:\n",
    "        return hapaxes(Text_Tokened,2)\n",
    "    if Number_function==3:\n",
    "        return pair__of__words(Text_Tokened,3)\n",
    "    if Number_function==4:\n",
    "        return Three__words(Text_Tokened,4)\n",
    "    if Number_function==5:\n",
    "        return bigram__measures(Text_Tokened,5)\n",
    "    if Number_function==6:\n",
    "        return trigram__measures(Text_Tokened,6)\n"
   ]
  },
  {
   "cell_type": "code",
   "execution_count": 301,
   "id": "3WFp0g3DQ72V",
   "metadata": {
    "id": "3WFp0g3DQ72V"
   },
   "outputs": [
    {
     "data": {
      "text/html": [
       "<div>\n",
       "<style scoped>\n",
       "    .dataframe tbody tr th:only-of-type {\n",
       "        vertical-align: middle;\n",
       "    }\n",
       "\n",
       "    .dataframe tbody tr th {\n",
       "        vertical-align: top;\n",
       "    }\n",
       "\n",
       "    .dataframe thead th {\n",
       "        text-align: right;\n",
       "    }\n",
       "</style>\n",
       "<table border=\"1\" class=\"dataframe\">\n",
       "  <thead>\n",
       "    <tr style=\"text-align: right;\">\n",
       "      <th></th>\n",
       "      <th>Word</th>\n",
       "      <th>Frequency</th>\n",
       "    </tr>\n",
       "  </thead>\n",
       "  <tbody>\n",
       "    <tr>\n",
       "      <th>0</th>\n",
       "      <td>#</td>\n",
       "      <td>38675</td>\n",
       "    </tr>\n",
       "    <tr>\n",
       "      <th>1</th>\n",
       "      <td>روسيا</td>\n",
       "      <td>18682</td>\n",
       "    </tr>\n",
       "    <tr>\n",
       "      <th>2</th>\n",
       "      <td>في</td>\n",
       "      <td>16794</td>\n",
       "    </tr>\n",
       "    <tr>\n",
       "      <th>3</th>\n",
       "      <td>:</td>\n",
       "      <td>16357</td>\n",
       "    </tr>\n",
       "    <tr>\n",
       "      <th>4</th>\n",
       "      <td>من</td>\n",
       "      <td>13217</td>\n",
       "    </tr>\n",
       "    <tr>\n",
       "      <th>5</th>\n",
       "      <td>أوكرانيا</td>\n",
       "      <td>10956</td>\n",
       "    </tr>\n",
       "    <tr>\n",
       "      <th>6</th>\n",
       "      <td>@</td>\n",
       "      <td>10772</td>\n",
       "    </tr>\n",
       "    <tr>\n",
       "      <th>7</th>\n",
       "      <td>https</td>\n",
       "      <td>10575</td>\n",
       "    </tr>\n",
       "    <tr>\n",
       "      <th>8</th>\n",
       "      <td>.</td>\n",
       "      <td>10037</td>\n",
       "    </tr>\n",
       "    <tr>\n",
       "      <th>9</th>\n",
       "      <td>على</td>\n",
       "      <td>9840</td>\n",
       "    </tr>\n",
       "    <tr>\n",
       "      <th>10</th>\n",
       "      <td>و</td>\n",
       "      <td>9373</td>\n",
       "    </tr>\n",
       "    <tr>\n",
       "      <th>11</th>\n",
       "      <td>اوكرانيا</td>\n",
       "      <td>6564</td>\n",
       "    </tr>\n",
       "    <tr>\n",
       "      <th>12</th>\n",
       "      <td>حرب</td>\n",
       "      <td>5441</td>\n",
       "    </tr>\n",
       "    <tr>\n",
       "      <th>13</th>\n",
       "      <td>الحرب</td>\n",
       "      <td>5226</td>\n",
       "    </tr>\n",
       "    <tr>\n",
       "      <th>14</th>\n",
       "      <td>..</td>\n",
       "      <td>4901</td>\n",
       "    </tr>\n",
       "  </tbody>\n",
       "</table>\n",
       "</div>"
      ],
      "text/plain": [
       "        Word  Frequency\n",
       "0          #      38675\n",
       "1      روسيا      18682\n",
       "2         في      16794\n",
       "3          :      16357\n",
       "4         من      13217\n",
       "5   أوكرانيا      10956\n",
       "6          @      10772\n",
       "7      https      10575\n",
       "8          .      10037\n",
       "9        على       9840\n",
       "10         و       9373\n",
       "11  اوكرانيا       6564\n",
       "12       حرب       5441\n",
       "13     الحرب       5226\n",
       "14        ..       4901"
      ]
     },
     "execution_count": 301,
     "metadata": {},
     "output_type": "execute_result"
    }
   ],
   "source": [
    "# all text\n",
    "question_5(flatten_Text_Tokened,1)"
   ]
  },
  {
   "cell_type": "code",
   "execution_count": 302,
   "id": "4c986593",
   "metadata": {},
   "outputs": [
    {
     "data": {
      "text/plain": [
       "['وفيديوهات',\n",
       " 'بيبكوا',\n",
       " 'غاغه',\n",
       " 'ومفراغه',\n",
       " 'الدجااااااااا',\n",
       " 'الناطقه',\n",
       " 'الدجا',\n",
       " 'البطله',\n",
       " 'الصامده',\n",
       " '🔥🔥💪🇺🇦']"
      ]
     },
     "execution_count": 302,
     "metadata": {},
     "output_type": "execute_result"
    }
   ],
   "source": [
    "# all text\n",
    "question_5(flatten_Text_Tokened,2)"
   ]
  },
  {
   "cell_type": "code",
   "execution_count": 303,
   "id": "06b514ea",
   "metadata": {},
   "outputs": [
    {
     "data": {
      "text/html": [
       "<div>\n",
       "<style scoped>\n",
       "    .dataframe tbody tr th:only-of-type {\n",
       "        vertical-align: middle;\n",
       "    }\n",
       "\n",
       "    .dataframe tbody tr th {\n",
       "        vertical-align: top;\n",
       "    }\n",
       "\n",
       "    .dataframe thead th {\n",
       "        text-align: right;\n",
       "    }\n",
       "</style>\n",
       "<table border=\"1\" class=\"dataframe\">\n",
       "  <thead>\n",
       "    <tr style=\"text-align: right;\">\n",
       "      <th></th>\n",
       "      <th>pair_of_words</th>\n",
       "      <th>Frequency</th>\n",
       "    </tr>\n",
       "  </thead>\n",
       "  <tbody>\n",
       "    <tr>\n",
       "      <th>0</th>\n",
       "      <td>(https, :)</td>\n",
       "      <td>10562</td>\n",
       "    </tr>\n",
       "    <tr>\n",
       "      <th>1</th>\n",
       "      <td>(#, روسيا)</td>\n",
       "      <td>5793</td>\n",
       "    </tr>\n",
       "    <tr>\n",
       "      <th>2</th>\n",
       "      <td>(#, أوكرانيا)</td>\n",
       "      <td>4787</td>\n",
       "    </tr>\n",
       "    <tr>\n",
       "      <th>3</th>\n",
       "      <td>(روسيا, #)</td>\n",
       "      <td>2651</td>\n",
       "    </tr>\n",
       "    <tr>\n",
       "      <th>4</th>\n",
       "      <td>(أوكرانيا, #)</td>\n",
       "      <td>1877</td>\n",
       "    </tr>\n",
       "    <tr>\n",
       "      <th>5</th>\n",
       "      <td>(., #)</td>\n",
       "      <td>1793</td>\n",
       "    </tr>\n",
       "    <tr>\n",
       "      <th>6</th>\n",
       "      <td>(;, ;)</td>\n",
       "      <td>1742</td>\n",
       "    </tr>\n",
       "    <tr>\n",
       "      <th>7</th>\n",
       "      <td>(و, #)</td>\n",
       "      <td>1481</td>\n",
       "    </tr>\n",
       "    <tr>\n",
       "      <th>8</th>\n",
       "      <td>(في, #)</td>\n",
       "      <td>1431</td>\n",
       "    </tr>\n",
       "    <tr>\n",
       "      <th>9</th>\n",
       "      <td>(في, أوكرانيا)</td>\n",
       "      <td>1322</td>\n",
       "    </tr>\n",
       "  </tbody>\n",
       "</table>\n",
       "</div>"
      ],
      "text/plain": [
       "    pair_of_words  Frequency\n",
       "0      (https, :)      10562\n",
       "1      (#, روسيا)       5793\n",
       "2   (#, أوكرانيا)       4787\n",
       "3      (روسيا, #)       2651\n",
       "4   (أوكرانيا, #)       1877\n",
       "5          (., #)       1793\n",
       "6          (;, ;)       1742\n",
       "7          (و, #)       1481\n",
       "8         (في, #)       1431\n",
       "9  (في, أوكرانيا)       1322"
      ]
     },
     "execution_count": 303,
     "metadata": {},
     "output_type": "execute_result"
    }
   ],
   "source": [
    "# all text\n",
    "question_5(flatten_Text_Tokened,3)"
   ]
  },
  {
   "cell_type": "code",
   "execution_count": 304,
   "id": "a799c937",
   "metadata": {},
   "outputs": [
    {
     "data": {
      "text/html": [
       "<div>\n",
       "<style scoped>\n",
       "    .dataframe tbody tr th:only-of-type {\n",
       "        vertical-align: middle;\n",
       "    }\n",
       "\n",
       "    .dataframe tbody tr th {\n",
       "        vertical-align: top;\n",
       "    }\n",
       "\n",
       "    .dataframe thead th {\n",
       "        text-align: right;\n",
       "    }\n",
       "</style>\n",
       "<table border=\"1\" class=\"dataframe\">\n",
       "  <thead>\n",
       "    <tr style=\"text-align: right;\">\n",
       "      <th></th>\n",
       "      <th>Three_words</th>\n",
       "      <th>Frequency</th>\n",
       "    </tr>\n",
       "  </thead>\n",
       "  <tbody>\n",
       "    <tr>\n",
       "      <th>0</th>\n",
       "      <td>(#, روسيا, #)</td>\n",
       "      <td>2539</td>\n",
       "    </tr>\n",
       "    <tr>\n",
       "      <th>1</th>\n",
       "      <td>(#, أوكرانيا, #)</td>\n",
       "      <td>1692</td>\n",
       "    </tr>\n",
       "    <tr>\n",
       "      <th>2</th>\n",
       "      <td>(;, ;, ;)</td>\n",
       "      <td>1608</td>\n",
       "    </tr>\n",
       "    <tr>\n",
       "      <th>3</th>\n",
       "      <td>(روسيا, #, أوكرانيا)</td>\n",
       "      <td>1190</td>\n",
       "    </tr>\n",
       "    <tr>\n",
       "      <th>4</th>\n",
       "      <td>(., https, :)</td>\n",
       "      <td>846</td>\n",
       "    </tr>\n",
       "    <tr>\n",
       "      <th>5</th>\n",
       "      <td>(?, ?, ?)</td>\n",
       "      <td>649</td>\n",
       "    </tr>\n",
       "    <tr>\n",
       "      <th>6</th>\n",
       "      <td>(أوكرانيا, https, :)</td>\n",
       "      <td>600</td>\n",
       "    </tr>\n",
       "    <tr>\n",
       "      <th>7</th>\n",
       "      <td>(في, #, أوكرانيا)</td>\n",
       "      <td>576</td>\n",
       "    </tr>\n",
       "    <tr>\n",
       "      <th>8</th>\n",
       "      <td>(#, الحرب_الروسية_الاوكرانية, #)</td>\n",
       "      <td>498</td>\n",
       "    </tr>\n",
       "    <tr>\n",
       "      <th>9</th>\n",
       "      <td>(#, روسيا, و)</td>\n",
       "      <td>448</td>\n",
       "    </tr>\n",
       "  </tbody>\n",
       "</table>\n",
       "</div>"
      ],
      "text/plain": [
       "                        Three_words  Frequency\n",
       "0                     (#, روسيا, #)       2539\n",
       "1                  (#, أوكرانيا, #)       1692\n",
       "2                         (;, ;, ;)       1608\n",
       "3              (روسيا, #, أوكرانيا)       1190\n",
       "4                     (., https, :)        846\n",
       "5                         (?, ?, ?)        649\n",
       "6              (أوكرانيا, https, :)        600\n",
       "7                 (في, #, أوكرانيا)        576\n",
       "8  (#, الحرب_الروسية_الاوكرانية, #)        498\n",
       "9                     (#, روسيا, و)        448"
      ]
     },
     "execution_count": 304,
     "metadata": {},
     "output_type": "execute_result"
    }
   ],
   "source": [
    "# all text\n",
    "question_5(flatten_Text_Tokened,4)"
   ]
  },
  {
   "cell_type": "code",
   "execution_count": 305,
   "id": "07181af9",
   "metadata": {},
   "outputs": [
    {
     "data": {
      "text/html": [
       "<div>\n",
       "<style scoped>\n",
       "    .dataframe tbody tr th:only-of-type {\n",
       "        vertical-align: middle;\n",
       "    }\n",
       "\n",
       "    .dataframe tbody tr th {\n",
       "        vertical-align: top;\n",
       "    }\n",
       "\n",
       "    .dataframe thead th {\n",
       "        text-align: right;\n",
       "    }\n",
       "</style>\n",
       "<table border=\"1\" class=\"dataframe\">\n",
       "  <thead>\n",
       "    <tr style=\"text-align: right;\">\n",
       "      <th></th>\n",
       "      <th>First</th>\n",
       "      <th>Second</th>\n",
       "    </tr>\n",
       "  </thead>\n",
       "  <tbody>\n",
       "    <tr>\n",
       "      <th>0</th>\n",
       "      <td>'state</td>\n",
       "      <td>sponsor</td>\n",
       "    </tr>\n",
       "    <tr>\n",
       "      <th>1</th>\n",
       "      <td>,حتى</td>\n",
       "      <td>اسيقظت</td>\n",
       "    </tr>\n",
       "    <tr>\n",
       "      <th>2</th>\n",
       "      <td>-10</td>\n",
       "      <td>وفقدتهم</td>\n",
       "    </tr>\n",
       "    <tr>\n",
       "      <th>3</th>\n",
       "      <td>-أخلاقيًا</td>\n",
       "      <td>-دينياً</td>\n",
       "    </tr>\n",
       "    <tr>\n",
       "      <th>4</th>\n",
       "      <td>-اجلكم</td>\n",
       "      <td>الله-</td>\n",
       "    </tr>\n",
       "    <tr>\n",
       "      <th>5</th>\n",
       "      <td>-الإرهاب</td>\n",
       "      <td>-حرية</td>\n",
       "    </tr>\n",
       "    <tr>\n",
       "      <th>6</th>\n",
       "      <td>-انسانياً</td>\n",
       "      <td>-أخلاقيًا</td>\n",
       "    </tr>\n",
       "    <tr>\n",
       "      <th>7</th>\n",
       "      <td>-بنك</td>\n",
       "      <td>التنميةالصيني</td>\n",
       "    </tr>\n",
       "    <tr>\n",
       "      <th>8</th>\n",
       "      <td>-حتى</td>\n",
       "      <td>أنا-</td>\n",
       "    </tr>\n",
       "    <tr>\n",
       "      <th>9</th>\n",
       "      <td>-زيلينسكي،</td>\n",
       "      <td>وتدريبه</td>\n",
       "    </tr>\n",
       "  </tbody>\n",
       "</table>\n",
       "</div>"
      ],
      "text/plain": [
       "        First         Second\n",
       "0      'state        sponsor\n",
       "1        ,حتى         اسيقظت\n",
       "2         -10        وفقدتهم\n",
       "3   -أخلاقيًا        -دينياً\n",
       "4      -اجلكم          الله-\n",
       "5    -الإرهاب          -حرية\n",
       "6   -انسانياً      -أخلاقيًا\n",
       "7        -بنك  التنميةالصيني\n",
       "8        -حتى           أنا-\n",
       "9  -زيلينسكي،        وتدريبه"
      ]
     },
     "execution_count": 305,
     "metadata": {},
     "output_type": "execute_result"
    }
   ],
   "source": [
    "# all text\n",
    "question_5(flatten_Text_Tokened,5)"
   ]
  },
  {
   "cell_type": "code",
   "execution_count": 306,
   "id": "f6478bf0",
   "metadata": {},
   "outputs": [
    {
     "data": {
      "text/html": [
       "<div>\n",
       "<style scoped>\n",
       "    .dataframe tbody tr th:only-of-type {\n",
       "        vertical-align: middle;\n",
       "    }\n",
       "\n",
       "    .dataframe tbody tr th {\n",
       "        vertical-align: top;\n",
       "    }\n",
       "\n",
       "    .dataframe thead th {\n",
       "        text-align: right;\n",
       "    }\n",
       "</style>\n",
       "<table border=\"1\" class=\"dataframe\">\n",
       "  <thead>\n",
       "    <tr style=\"text-align: right;\">\n",
       "      <th></th>\n",
       "      <th>First</th>\n",
       "      <th>Second</th>\n",
       "      <th>Third</th>\n",
       "    </tr>\n",
       "  </thead>\n",
       "  <tbody>\n",
       "    <tr>\n",
       "      <th>0</th>\n",
       "      <td>-انسانياً</td>\n",
       "      <td>-أخلاقيًا</td>\n",
       "      <td>-دينياً</td>\n",
       "    </tr>\n",
       "    <tr>\n",
       "      <th>1</th>\n",
       "      <td>-بنك</td>\n",
       "      <td>التنميةالصيني</td>\n",
       "      <td>يُعلّق</td>\n",
       "    </tr>\n",
       "    <tr>\n",
       "      <th>2</th>\n",
       "      <td>-نظام</td>\n",
       "      <td>swift</td>\n",
       "      <td>البنكي</td>\n",
       "    </tr>\n",
       "    <tr>\n",
       "      <th>3</th>\n",
       "      <td>.قرغيزستنا</td>\n",
       "      <td>.اوزباكستان</td>\n",
       "      <td>.كازاخستان</td>\n",
       "    </tr>\n",
       "    <tr>\n",
       "      <th>4</th>\n",
       "      <td>.من</td>\n",
       "      <td>شرع</td>\n",
       "      <td>للمهاجرين</td>\n",
       "    </tr>\n",
       "    <tr>\n",
       "      <th>5</th>\n",
       "      <td>.ومنبع</td>\n",
       "      <td>الضلال</td>\n",
       "      <td>ومسقط</td>\n",
       "    </tr>\n",
       "    <tr>\n",
       "      <th>6</th>\n",
       "      <td>//t.co/3qA7NyBe7V</td>\n",
       "      <td>خدعوك</td>\n",
       "      <td>فقالوا</td>\n",
       "    </tr>\n",
       "    <tr>\n",
       "      <th>7</th>\n",
       "      <td>//t.co/BnwiAxHbNh</td>\n",
       "      <td>kteyi_</td>\n",
       "      <td>Asma61851036</td>\n",
       "    </tr>\n",
       "    <tr>\n",
       "      <th>8</th>\n",
       "      <td>//t.co/G6isKuhFDD</td>\n",
       "      <td>T</td>\n",
       "      <td>Matrix</td>\n",
       "    </tr>\n",
       "    <tr>\n",
       "      <th>9</th>\n",
       "      <td>//t.co/JxJcudfSiP</td>\n",
       "      <td>μέσω</td>\n",
       "      <td>του</td>\n",
       "    </tr>\n",
       "  </tbody>\n",
       "</table>\n",
       "</div>"
      ],
      "text/plain": [
       "               First         Second         Third\n",
       "0          -انسانياً      -أخلاقيًا       -دينياً\n",
       "1               -بنك  التنميةالصيني        يُعلّق\n",
       "2              -نظام          swift        البنكي\n",
       "3         .قرغيزستنا    .اوزباكستان    .كازاخستان\n",
       "4                .من            شرع     للمهاجرين\n",
       "5             .ومنبع         الضلال         ومسقط\n",
       "6  //t.co/3qA7NyBe7V          خدعوك        فقالوا\n",
       "7  //t.co/BnwiAxHbNh         kteyi_  Asma61851036\n",
       "8  //t.co/G6isKuhFDD              T        Matrix\n",
       "9  //t.co/JxJcudfSiP           μέσω           του"
      ]
     },
     "execution_count": 306,
     "metadata": {},
     "output_type": "execute_result"
    }
   ],
   "source": [
    "# all text\n",
    "question_5(flatten_Text_Tokened,6)"
   ]
  },
  {
   "cell_type": "code",
   "execution_count": 153,
   "id": "657411f1",
   "metadata": {},
   "outputs": [],
   "source": [
    "# neutral\n",
    "token_neutral=flatten_list(dataframe.loc[dataframe['label'] == 'neutral']['Text_tokenz'])\n",
    "text_neutral=flatten_list(dataframe.loc[dataframe['label'] == 'neutral']['text'])\n",
    "\n",
    "# positive\n",
    "token_positive=flatten_list(dataframe.loc[dataframe['label'] == 'positive']['Text_tokenz'])\n",
    "text_positive=flatten_list(dataframe.loc[dataframe['label'] == 'positive']['text'])\n",
    "\n",
    "# negative\n",
    "token_negative=flatten_list(dataframe.loc[dataframe['label'] == 'negative']['Text_tokenz'])\n",
    "text_negative=flatten_list(dataframe.loc[dataframe['label'] == 'negative']['text'])\n",
    "\n",
    "# irrelevent\n",
    "token_irrelevent=flatten_list(dataframe.loc[dataframe['label'] == 'irrelevent']['Text_tokenz'])\n",
    "text_irrelevent=flatten_list(dataframe.loc[dataframe['label'] == 'irrelevent']['text'])\n"
   ]
  },
  {
   "cell_type": "code",
   "execution_count": 154,
   "id": "1836140c",
   "metadata": {},
   "outputs": [],
   "source": [
    "# class neutral\n",
    "# question_5(token_neutral,1)\n",
    "# question_5(token_neutral,2)\n",
    "# question_5(token_neutral,3)\n",
    "# question_5(token_neutral,4)\n",
    "# question_5(token_neutral,5)\n",
    "# question_5(token_neutral,6)\n",
    "\n",
    "# class positive\n",
    "# question_5(token_positive,1)\n",
    "# question_5(token_positive,2)\n",
    "# question_5(token_positive,3)\n",
    "# question_5(token_positive,4)\n",
    "# question_5(token_positive,5)\n",
    "# question_5(token_positive,6)\n",
    "\n",
    "\n",
    "# question_5(token_negative,1)\n",
    "# question_5(token_negative,2)\n",
    "# question_5(token_negative,3)\n",
    "# question_5(token_negative,4)\n",
    "# question_5(token_negative,5)\n",
    "# question_5(token_negative,6)\n",
    "\n",
    "# question_5(token_irrelevent,1)\n",
    "# question_5(token_irrelevent,2)\n",
    "# question_5(token_irrelevent,3)\n",
    "# question_5(token_irrelevent,4)\n",
    "# question_5(token_irrelevent,5)\n",
    "# question_5(token_irrelevent,6)"
   ]
  },
  {
   "cell_type": "code",
   "execution_count": 307,
   "id": "71a08b37",
   "metadata": {},
   "outputs": [
    {
     "name": "stdout",
     "output_type": "stream",
     "text": [
      "661518\n",
      "754\n"
     ]
    }
   ],
   "source": [
    "# stop word in arabic\n",
    "flatten_Text_Tokened = [w for w in flatten_Text_Tokened if w not in stopwords.words(\"arabic\")]\n",
    "print(len(flatten_Text_Tokened))\n",
    "print(len(stopwords.words(\"arabic\")))"
   ]
  },
  {
   "cell_type": "code",
   "execution_count": 308,
   "id": "81067fec",
   "metadata": {},
   "outputs": [
    {
     "data": {
      "text/html": [
       "<div>\n",
       "<style scoped>\n",
       "    .dataframe tbody tr th:only-of-type {\n",
       "        vertical-align: middle;\n",
       "    }\n",
       "\n",
       "    .dataframe tbody tr th {\n",
       "        vertical-align: top;\n",
       "    }\n",
       "\n",
       "    .dataframe thead th {\n",
       "        text-align: right;\n",
       "    }\n",
       "</style>\n",
       "<table border=\"1\" class=\"dataframe\">\n",
       "  <thead>\n",
       "    <tr style=\"text-align: right;\">\n",
       "      <th></th>\n",
       "      <th>Word</th>\n",
       "      <th>Frequency</th>\n",
       "    </tr>\n",
       "  </thead>\n",
       "  <tbody>\n",
       "    <tr>\n",
       "      <th>0</th>\n",
       "      <td>#</td>\n",
       "      <td>38675</td>\n",
       "    </tr>\n",
       "    <tr>\n",
       "      <th>1</th>\n",
       "      <td>روسيا</td>\n",
       "      <td>18682</td>\n",
       "    </tr>\n",
       "    <tr>\n",
       "      <th>2</th>\n",
       "      <td>:</td>\n",
       "      <td>16357</td>\n",
       "    </tr>\n",
       "    <tr>\n",
       "      <th>3</th>\n",
       "      <td>أوكرانيا</td>\n",
       "      <td>10956</td>\n",
       "    </tr>\n",
       "    <tr>\n",
       "      <th>4</th>\n",
       "      <td>@</td>\n",
       "      <td>10772</td>\n",
       "    </tr>\n",
       "    <tr>\n",
       "      <th>5</th>\n",
       "      <td>https</td>\n",
       "      <td>10575</td>\n",
       "    </tr>\n",
       "    <tr>\n",
       "      <th>6</th>\n",
       "      <td>.</td>\n",
       "      <td>10037</td>\n",
       "    </tr>\n",
       "    <tr>\n",
       "      <th>7</th>\n",
       "      <td>اوكرانيا</td>\n",
       "      <td>6564</td>\n",
       "    </tr>\n",
       "    <tr>\n",
       "      <th>8</th>\n",
       "      <td>حرب</td>\n",
       "      <td>5441</td>\n",
       "    </tr>\n",
       "    <tr>\n",
       "      <th>9</th>\n",
       "      <td>الحرب</td>\n",
       "      <td>5226</td>\n",
       "    </tr>\n",
       "    <tr>\n",
       "      <th>10</th>\n",
       "      <td>..</td>\n",
       "      <td>4901</td>\n",
       "    </tr>\n",
       "    <tr>\n",
       "      <th>11</th>\n",
       "      <td>بوتين</td>\n",
       "      <td>4496</td>\n",
       "    </tr>\n",
       "    <tr>\n",
       "      <th>12</th>\n",
       "      <td>''</td>\n",
       "      <td>3654</td>\n",
       "    </tr>\n",
       "    <tr>\n",
       "      <th>13</th>\n",
       "      <td>!</td>\n",
       "      <td>3296</td>\n",
       "    </tr>\n",
       "    <tr>\n",
       "      <th>14</th>\n",
       "      <td>الروسي</td>\n",
       "      <td>3016</td>\n",
       "    </tr>\n",
       "  </tbody>\n",
       "</table>\n",
       "</div>"
      ],
      "text/plain": [
       "        Word  Frequency\n",
       "0          #      38675\n",
       "1      روسيا      18682\n",
       "2          :      16357\n",
       "3   أوكرانيا      10956\n",
       "4          @      10772\n",
       "5      https      10575\n",
       "6          .      10037\n",
       "7   اوكرانيا       6564\n",
       "8        حرب       5441\n",
       "9      الحرب       5226\n",
       "10        ..       4901\n",
       "11     بوتين       4496\n",
       "12        ''       3654\n",
       "13         !       3296\n",
       "14    الروسي       3016"
      ]
     },
     "execution_count": 308,
     "metadata": {},
     "output_type": "execute_result"
    }
   ],
   "source": [
    "question_5(flatten_Text_Tokened,1)"
   ]
  },
  {
   "cell_type": "code",
   "execution_count": 309,
   "id": "f4a67dd5",
   "metadata": {},
   "outputs": [
    {
     "data": {
      "text/plain": [
       "['وفيديوهات',\n",
       " 'بيبكوا',\n",
       " 'غاغه',\n",
       " 'ومفراغه',\n",
       " 'الدجااااااااا',\n",
       " 'الناطقه',\n",
       " 'الدجا',\n",
       " 'البطله',\n",
       " 'الصامده',\n",
       " '🔥🔥💪🇺🇦']"
      ]
     },
     "execution_count": 309,
     "metadata": {},
     "output_type": "execute_result"
    }
   ],
   "source": [
    "question_5(flatten_Text_Tokened,2)"
   ]
  },
  {
   "cell_type": "code",
   "execution_count": 310,
   "id": "27789476",
   "metadata": {},
   "outputs": [
    {
     "data": {
      "text/html": [
       "<div>\n",
       "<style scoped>\n",
       "    .dataframe tbody tr th:only-of-type {\n",
       "        vertical-align: middle;\n",
       "    }\n",
       "\n",
       "    .dataframe tbody tr th {\n",
       "        vertical-align: top;\n",
       "    }\n",
       "\n",
       "    .dataframe thead th {\n",
       "        text-align: right;\n",
       "    }\n",
       "</style>\n",
       "<table border=\"1\" class=\"dataframe\">\n",
       "  <thead>\n",
       "    <tr style=\"text-align: right;\">\n",
       "      <th></th>\n",
       "      <th>pair_of_words</th>\n",
       "      <th>Frequency</th>\n",
       "    </tr>\n",
       "  </thead>\n",
       "  <tbody>\n",
       "    <tr>\n",
       "      <th>0</th>\n",
       "      <td>(https, :)</td>\n",
       "      <td>10562</td>\n",
       "    </tr>\n",
       "    <tr>\n",
       "      <th>1</th>\n",
       "      <td>(#, روسيا)</td>\n",
       "      <td>5793</td>\n",
       "    </tr>\n",
       "    <tr>\n",
       "      <th>2</th>\n",
       "      <td>(#, أوكرانيا)</td>\n",
       "      <td>4787</td>\n",
       "    </tr>\n",
       "    <tr>\n",
       "      <th>3</th>\n",
       "      <td>(روسيا, #)</td>\n",
       "      <td>3247</td>\n",
       "    </tr>\n",
       "    <tr>\n",
       "      <th>4</th>\n",
       "      <td>(أوكرانيا, #)</td>\n",
       "      <td>2011</td>\n",
       "    </tr>\n",
       "    <tr>\n",
       "      <th>5</th>\n",
       "      <td>(., #)</td>\n",
       "      <td>1812</td>\n",
       "    </tr>\n",
       "    <tr>\n",
       "      <th>6</th>\n",
       "      <td>(;, ;)</td>\n",
       "      <td>1742</td>\n",
       "    </tr>\n",
       "    <tr>\n",
       "      <th>7</th>\n",
       "      <td>(حرب, روسيا)</td>\n",
       "      <td>1312</td>\n",
       "    </tr>\n",
       "    <tr>\n",
       "      <th>8</th>\n",
       "      <td>(#, بوتين)</td>\n",
       "      <td>1184</td>\n",
       "    </tr>\n",
       "    <tr>\n",
       "      <th>9</th>\n",
       "      <td>(!, !)</td>\n",
       "      <td>1170</td>\n",
       "    </tr>\n",
       "  </tbody>\n",
       "</table>\n",
       "</div>"
      ],
      "text/plain": [
       "   pair_of_words  Frequency\n",
       "0     (https, :)      10562\n",
       "1     (#, روسيا)       5793\n",
       "2  (#, أوكرانيا)       4787\n",
       "3     (روسيا, #)       3247\n",
       "4  (أوكرانيا, #)       2011\n",
       "5         (., #)       1812\n",
       "6         (;, ;)       1742\n",
       "7   (حرب, روسيا)       1312\n",
       "8     (#, بوتين)       1184\n",
       "9         (!, !)       1170"
      ]
     },
     "execution_count": 310,
     "metadata": {},
     "output_type": "execute_result"
    }
   ],
   "source": [
    "question_5(flatten_Text_Tokened,3)"
   ]
  },
  {
   "cell_type": "code",
   "execution_count": 311,
   "id": "94a77f86",
   "metadata": {},
   "outputs": [
    {
     "data": {
      "text/html": [
       "<div>\n",
       "<style scoped>\n",
       "    .dataframe tbody tr th:only-of-type {\n",
       "        vertical-align: middle;\n",
       "    }\n",
       "\n",
       "    .dataframe tbody tr th {\n",
       "        vertical-align: top;\n",
       "    }\n",
       "\n",
       "    .dataframe thead th {\n",
       "        text-align: right;\n",
       "    }\n",
       "</style>\n",
       "<table border=\"1\" class=\"dataframe\">\n",
       "  <thead>\n",
       "    <tr style=\"text-align: right;\">\n",
       "      <th></th>\n",
       "      <th>Three_words</th>\n",
       "      <th>Frequency</th>\n",
       "    </tr>\n",
       "  </thead>\n",
       "  <tbody>\n",
       "    <tr>\n",
       "      <th>0</th>\n",
       "      <td>(#, روسيا, #)</td>\n",
       "      <td>3103</td>\n",
       "    </tr>\n",
       "    <tr>\n",
       "      <th>1</th>\n",
       "      <td>(#, أوكرانيا, #)</td>\n",
       "      <td>1818</td>\n",
       "    </tr>\n",
       "    <tr>\n",
       "      <th>2</th>\n",
       "      <td>(;, ;, ;)</td>\n",
       "      <td>1608</td>\n",
       "    </tr>\n",
       "    <tr>\n",
       "      <th>3</th>\n",
       "      <td>(روسيا, #, أوكرانيا)</td>\n",
       "      <td>1554</td>\n",
       "    </tr>\n",
       "    <tr>\n",
       "      <th>4</th>\n",
       "      <td>(., https, :)</td>\n",
       "      <td>847</td>\n",
       "    </tr>\n",
       "    <tr>\n",
       "      <th>5</th>\n",
       "      <td>(?, ?, ?)</td>\n",
       "      <td>651</td>\n",
       "    </tr>\n",
       "    <tr>\n",
       "      <th>6</th>\n",
       "      <td>(أوكرانيا, https, :)</td>\n",
       "      <td>601</td>\n",
       "    </tr>\n",
       "    <tr>\n",
       "      <th>7</th>\n",
       "      <td>(أوكرانيا, #, روسيا)</td>\n",
       "      <td>505</td>\n",
       "    </tr>\n",
       "    <tr>\n",
       "      <th>8</th>\n",
       "      <td>(#, الحرب_الروسية_الاوكرانية, #)</td>\n",
       "      <td>505</td>\n",
       "    </tr>\n",
       "    <tr>\n",
       "      <th>9</th>\n",
       "      <td>(#, اوكرانيا, #)</td>\n",
       "      <td>450</td>\n",
       "    </tr>\n",
       "  </tbody>\n",
       "</table>\n",
       "</div>"
      ],
      "text/plain": [
       "                        Three_words  Frequency\n",
       "0                     (#, روسيا, #)       3103\n",
       "1                  (#, أوكرانيا, #)       1818\n",
       "2                         (;, ;, ;)       1608\n",
       "3              (روسيا, #, أوكرانيا)       1554\n",
       "4                     (., https, :)        847\n",
       "5                         (?, ?, ?)        651\n",
       "6              (أوكرانيا, https, :)        601\n",
       "7              (أوكرانيا, #, روسيا)        505\n",
       "8  (#, الحرب_الروسية_الاوكرانية, #)        505\n",
       "9                  (#, اوكرانيا, #)        450"
      ]
     },
     "execution_count": 311,
     "metadata": {},
     "output_type": "execute_result"
    }
   ],
   "source": [
    "question_5(flatten_Text_Tokened,4)"
   ]
  },
  {
   "cell_type": "code",
   "execution_count": 312,
   "id": "232a5aa5",
   "metadata": {},
   "outputs": [
    {
     "data": {
      "text/html": [
       "<div>\n",
       "<style scoped>\n",
       "    .dataframe tbody tr th:only-of-type {\n",
       "        vertical-align: middle;\n",
       "    }\n",
       "\n",
       "    .dataframe tbody tr th {\n",
       "        vertical-align: top;\n",
       "    }\n",
       "\n",
       "    .dataframe thead th {\n",
       "        text-align: right;\n",
       "    }\n",
       "</style>\n",
       "<table border=\"1\" class=\"dataframe\">\n",
       "  <thead>\n",
       "    <tr style=\"text-align: right;\">\n",
       "      <th></th>\n",
       "      <th>First</th>\n",
       "      <th>Second</th>\n",
       "    </tr>\n",
       "  </thead>\n",
       "  <tbody>\n",
       "    <tr>\n",
       "      <th>0</th>\n",
       "      <td>'state</td>\n",
       "      <td>sponsor</td>\n",
       "    </tr>\n",
       "    <tr>\n",
       "      <th>1</th>\n",
       "      <td>,حتى</td>\n",
       "      <td>اسيقظت</td>\n",
       "    </tr>\n",
       "    <tr>\n",
       "      <th>2</th>\n",
       "      <td>-10</td>\n",
       "      <td>وفقدتهم</td>\n",
       "    </tr>\n",
       "    <tr>\n",
       "      <th>3</th>\n",
       "      <td>-أخلاقيًا</td>\n",
       "      <td>-دينياً</td>\n",
       "    </tr>\n",
       "    <tr>\n",
       "      <th>4</th>\n",
       "      <td>-اجلكم</td>\n",
       "      <td>الله-</td>\n",
       "    </tr>\n",
       "    <tr>\n",
       "      <th>5</th>\n",
       "      <td>-الإرهاب</td>\n",
       "      <td>-حرية</td>\n",
       "    </tr>\n",
       "    <tr>\n",
       "      <th>6</th>\n",
       "      <td>-انسانياً</td>\n",
       "      <td>-أخلاقيًا</td>\n",
       "    </tr>\n",
       "    <tr>\n",
       "      <th>7</th>\n",
       "      <td>-بنك</td>\n",
       "      <td>التنميةالصيني</td>\n",
       "    </tr>\n",
       "    <tr>\n",
       "      <th>8</th>\n",
       "      <td>-حتى</td>\n",
       "      <td>أنا-</td>\n",
       "    </tr>\n",
       "    <tr>\n",
       "      <th>9</th>\n",
       "      <td>-حدث</td>\n",
       "      <td>إيطاليا-</td>\n",
       "    </tr>\n",
       "  </tbody>\n",
       "</table>\n",
       "</div>"
      ],
      "text/plain": [
       "       First         Second\n",
       "0     'state        sponsor\n",
       "1       ,حتى         اسيقظت\n",
       "2        -10        وفقدتهم\n",
       "3  -أخلاقيًا        -دينياً\n",
       "4     -اجلكم          الله-\n",
       "5   -الإرهاب          -حرية\n",
       "6  -انسانياً      -أخلاقيًا\n",
       "7       -بنك  التنميةالصيني\n",
       "8       -حتى           أنا-\n",
       "9       -حدث       إيطاليا-"
      ]
     },
     "execution_count": 312,
     "metadata": {},
     "output_type": "execute_result"
    }
   ],
   "source": [
    "question_5(flatten_Text_Tokened,5)"
   ]
  },
  {
   "cell_type": "code",
   "execution_count": 313,
   "id": "286bb273",
   "metadata": {},
   "outputs": [
    {
     "data": {
      "text/html": [
       "<div>\n",
       "<style scoped>\n",
       "    .dataframe tbody tr th:only-of-type {\n",
       "        vertical-align: middle;\n",
       "    }\n",
       "\n",
       "    .dataframe tbody tr th {\n",
       "        vertical-align: top;\n",
       "    }\n",
       "\n",
       "    .dataframe thead th {\n",
       "        text-align: right;\n",
       "    }\n",
       "</style>\n",
       "<table border=\"1\" class=\"dataframe\">\n",
       "  <thead>\n",
       "    <tr style=\"text-align: right;\">\n",
       "      <th></th>\n",
       "      <th>First</th>\n",
       "      <th>Second</th>\n",
       "      <th>Third</th>\n",
       "    </tr>\n",
       "  </thead>\n",
       "  <tbody>\n",
       "    <tr>\n",
       "      <th>0</th>\n",
       "      <td>-اجلكم</td>\n",
       "      <td>الله-</td>\n",
       "      <td>المنافسات،</td>\n",
       "    </tr>\n",
       "    <tr>\n",
       "      <th>1</th>\n",
       "      <td>-انسانياً</td>\n",
       "      <td>-أخلاقيًا</td>\n",
       "      <td>-دينياً</td>\n",
       "    </tr>\n",
       "    <tr>\n",
       "      <th>2</th>\n",
       "      <td>-بنك</td>\n",
       "      <td>التنميةالصيني</td>\n",
       "      <td>يُعلّق</td>\n",
       "    </tr>\n",
       "    <tr>\n",
       "      <th>3</th>\n",
       "      <td>-حتى</td>\n",
       "      <td>أنا-</td>\n",
       "      <td>الشاهد</td>\n",
       "    </tr>\n",
       "    <tr>\n",
       "      <th>4</th>\n",
       "      <td>-نظام</td>\n",
       "      <td>swift</td>\n",
       "      <td>البنكي</td>\n",
       "    </tr>\n",
       "    <tr>\n",
       "      <th>5</th>\n",
       "      <td>.عكس</td>\n",
       "      <td>ماظهر</td>\n",
       "      <td>السيد/جو</td>\n",
       "    </tr>\n",
       "    <tr>\n",
       "      <th>6</th>\n",
       "      <td>.فهل</td>\n",
       "      <td>تتعضون</td>\n",
       "      <td>تفرعنكم</td>\n",
       "    </tr>\n",
       "    <tr>\n",
       "      <th>7</th>\n",
       "      <td>.قرغيزستنا</td>\n",
       "      <td>.اوزباكستان</td>\n",
       "      <td>.كازاخستان</td>\n",
       "    </tr>\n",
       "    <tr>\n",
       "      <th>8</th>\n",
       "      <td>.ومنبع</td>\n",
       "      <td>الضلال</td>\n",
       "      <td>ومسقط</td>\n",
       "    </tr>\n",
       "    <tr>\n",
       "      <th>9</th>\n",
       "      <td>//t.co/3qA7NyBe7V</td>\n",
       "      <td>خدعوك</td>\n",
       "      <td>فقالوا</td>\n",
       "    </tr>\n",
       "  </tbody>\n",
       "</table>\n",
       "</div>"
      ],
      "text/plain": [
       "               First         Second       Third\n",
       "0             -اجلكم          الله-  المنافسات،\n",
       "1          -انسانياً      -أخلاقيًا     -دينياً\n",
       "2               -بنك  التنميةالصيني      يُعلّق\n",
       "3               -حتى           أنا-      الشاهد\n",
       "4              -نظام          swift      البنكي\n",
       "5               .عكس          ماظهر    السيد/جو\n",
       "6               .فهل         تتعضون     تفرعنكم\n",
       "7         .قرغيزستنا    .اوزباكستان  .كازاخستان\n",
       "8             .ومنبع         الضلال       ومسقط\n",
       "9  //t.co/3qA7NyBe7V          خدعوك      فقالوا"
      ]
     },
     "execution_count": 313,
     "metadata": {},
     "output_type": "execute_result"
    }
   ],
   "source": [
    "question_5(flatten_Text_Tokened,6)"
   ]
  },
  {
   "cell_type": "markdown",
   "id": "69f51889",
   "metadata": {
    "id": "r-eILHxqQ77S"
   },
   "source": [
    "## [2.6]"
   ]
  },
  {
   "cell_type": "code",
   "execution_count": 314,
   "id": "846b64e4",
   "metadata": {},
   "outputs": [],
   "source": [
    "# join data \n",
    "text=[]\n",
    "text=flatten_list(dataframe['text'])\n",
    "text_join=\" ,\".join(text)\n",
    "\n",
    "#  join neutral\n",
    "neutral=[]\n",
    "neutral=flatten_list(text_neutral)\n",
    "neutral_join=\" ,\".join(neutral)\n",
    "\n",
    "#join positive\n",
    "positive=[]\n",
    "positive=flatten_list(text_positive)\n",
    "positive_join=\" ,\".join(positive)\n",
    "\n",
    "\n",
    "# join negative\n",
    "negative=[]\n",
    "negative=flatten_list(text_negative)\n",
    "negative_join=\" ,\".join(negative)\n",
    "\n",
    "# join irrelevent\n",
    "irrelevent=[]\n",
    "irrelevent=flatten_list(text_irrelevent)\n",
    "irrelevent_join=\" ,\".join(irrelevent)\n"
   ]
  },
  {
   "cell_type": "code",
   "execution_count": 315,
   "id": "9f050668",
   "metadata": {},
   "outputs": [],
   "source": [
    "def Hashtags(text,hashtag):\n",
    "    hashtag.extend(re.findall(r\"#(\\S+)\", text))\n",
    "    Frequency_hashtag = nltk.FreqDist(hashtag)\n",
    "    return pd.DataFrame( Frequency_hashtag.most_common(10), columns=['hashtag', 'Frequency'])"
   ]
  },
  {
   "cell_type": "code",
   "execution_count": 316,
   "id": "aade6d2f",
   "metadata": {},
   "outputs": [
    {
     "data": {
      "text/html": [
       "<div>\n",
       "<style scoped>\n",
       "    .dataframe tbody tr th:only-of-type {\n",
       "        vertical-align: middle;\n",
       "    }\n",
       "\n",
       "    .dataframe tbody tr th {\n",
       "        vertical-align: top;\n",
       "    }\n",
       "\n",
       "    .dataframe thead th {\n",
       "        text-align: right;\n",
       "    }\n",
       "</style>\n",
       "<table border=\"1\" class=\"dataframe\">\n",
       "  <thead>\n",
       "    <tr style=\"text-align: right;\">\n",
       "      <th></th>\n",
       "      <th>hashtag</th>\n",
       "      <th>Frequency</th>\n",
       "    </tr>\n",
       "  </thead>\n",
       "  <tbody>\n",
       "    <tr>\n",
       "      <th>0</th>\n",
       "      <td>روسيا</td>\n",
       "      <td>5533</td>\n",
       "    </tr>\n",
       "    <tr>\n",
       "      <th>1</th>\n",
       "      <td>أوكرانيا</td>\n",
       "      <td>4388</td>\n",
       "    </tr>\n",
       "    <tr>\n",
       "      <th>2</th>\n",
       "      <td>بوتين</td>\n",
       "      <td>1115</td>\n",
       "    </tr>\n",
       "    <tr>\n",
       "      <th>3</th>\n",
       "      <td>الحرب_الروسية_الاوكرانية</td>\n",
       "      <td>1085</td>\n",
       "    </tr>\n",
       "    <tr>\n",
       "      <th>4</th>\n",
       "      <td>اوكرانيا</td>\n",
       "      <td>1047</td>\n",
       "    </tr>\n",
       "    <tr>\n",
       "      <th>5</th>\n",
       "      <td>روسيا_اوكرانيا</td>\n",
       "      <td>854</td>\n",
       "    </tr>\n",
       "    <tr>\n",
       "      <th>6</th>\n",
       "      <td>الحرب_الروسية_الأوكرانية</td>\n",
       "      <td>806</td>\n",
       "    </tr>\n",
       "    <tr>\n",
       "      <th>7</th>\n",
       "      <td>Russia</td>\n",
       "      <td>619</td>\n",
       "    </tr>\n",
       "    <tr>\n",
       "      <th>8</th>\n",
       "      <td>Ukraine</td>\n",
       "      <td>617</td>\n",
       "    </tr>\n",
       "    <tr>\n",
       "      <th>9</th>\n",
       "      <td>كييف</td>\n",
       "      <td>517</td>\n",
       "    </tr>\n",
       "  </tbody>\n",
       "</table>\n",
       "</div>"
      ],
      "text/plain": [
       "                    hashtag  Frequency\n",
       "0                     روسيا       5533\n",
       "1                  أوكرانيا       4388\n",
       "2                     بوتين       1115\n",
       "3  الحرب_الروسية_الاوكرانية       1085\n",
       "4                  اوكرانيا       1047\n",
       "5            روسيا_اوكرانيا        854\n",
       "6  الحرب_الروسية_الأوكرانية        806\n",
       "7                    Russia        619\n",
       "8                   Ukraine        617\n",
       "9                      كييف        517"
      ]
     },
     "execution_count": 316,
     "metadata": {},
     "output_type": "execute_result"
    }
   ],
   "source": [
    "# all data\n",
    "hashtag=[]\n",
    "Hashtags(text_join, hashtag)"
   ]
  },
  {
   "cell_type": "code",
   "execution_count": 317,
   "id": "44d46619",
   "metadata": {},
   "outputs": [
    {
     "data": {
      "text/html": [
       "<div>\n",
       "<style scoped>\n",
       "    .dataframe tbody tr th:only-of-type {\n",
       "        vertical-align: middle;\n",
       "    }\n",
       "\n",
       "    .dataframe tbody tr th {\n",
       "        vertical-align: top;\n",
       "    }\n",
       "\n",
       "    .dataframe thead th {\n",
       "        text-align: right;\n",
       "    }\n",
       "</style>\n",
       "<table border=\"1\" class=\"dataframe\">\n",
       "  <thead>\n",
       "    <tr style=\"text-align: right;\">\n",
       "      <th></th>\n",
       "      <th>hashtag</th>\n",
       "      <th>Frequency</th>\n",
       "    </tr>\n",
       "  </thead>\n",
       "  <tbody>\n",
       "    <tr>\n",
       "      <th>0</th>\n",
       "      <td>روسيا</td>\n",
       "      <td>2889</td>\n",
       "    </tr>\n",
       "    <tr>\n",
       "      <th>1</th>\n",
       "      <td>أوكرانيا</td>\n",
       "      <td>2325</td>\n",
       "    </tr>\n",
       "    <tr>\n",
       "      <th>2</th>\n",
       "      <td>الحرب_الروسية_الاوكرانية</td>\n",
       "      <td>553</td>\n",
       "    </tr>\n",
       "    <tr>\n",
       "      <th>3</th>\n",
       "      <td>اوكرانيا</td>\n",
       "      <td>511</td>\n",
       "    </tr>\n",
       "    <tr>\n",
       "      <th>4</th>\n",
       "      <td>روسيا_اوكرانيا</td>\n",
       "      <td>436</td>\n",
       "    </tr>\n",
       "    <tr>\n",
       "      <th>5</th>\n",
       "      <td>الحرب_الروسية_الأوكرانية</td>\n",
       "      <td>434</td>\n",
       "    </tr>\n",
       "    <tr>\n",
       "      <th>6</th>\n",
       "      <td>بوتين</td>\n",
       "      <td>407</td>\n",
       "    </tr>\n",
       "    <tr>\n",
       "      <th>7</th>\n",
       "      <td>Russia</td>\n",
       "      <td>390</td>\n",
       "    </tr>\n",
       "    <tr>\n",
       "      <th>8</th>\n",
       "      <td>Ukraine</td>\n",
       "      <td>375</td>\n",
       "    </tr>\n",
       "    <tr>\n",
       "      <th>9</th>\n",
       "      <td>كييف</td>\n",
       "      <td>324</td>\n",
       "    </tr>\n",
       "  </tbody>\n",
       "</table>\n",
       "</div>"
      ],
      "text/plain": [
       "                    hashtag  Frequency\n",
       "0                     روسيا       2889\n",
       "1                  أوكرانيا       2325\n",
       "2  الحرب_الروسية_الاوكرانية        553\n",
       "3                  اوكرانيا        511\n",
       "4            روسيا_اوكرانيا        436\n",
       "5  الحرب_الروسية_الأوكرانية        434\n",
       "6                     بوتين        407\n",
       "7                    Russia        390\n",
       "8                   Ukraine        375\n",
       "9                      كييف        324"
      ]
     },
     "execution_count": 317,
     "metadata": {},
     "output_type": "execute_result"
    }
   ],
   "source": [
    "# neutral\n",
    "hashtag=[]\n",
    "Hashtags(neutral_join, hashtag)"
   ]
  },
  {
   "cell_type": "code",
   "execution_count": 318,
   "id": "3a19a1bb",
   "metadata": {},
   "outputs": [
    {
     "data": {
      "text/html": [
       "<div>\n",
       "<style scoped>\n",
       "    .dataframe tbody tr th:only-of-type {\n",
       "        vertical-align: middle;\n",
       "    }\n",
       "\n",
       "    .dataframe tbody tr th {\n",
       "        vertical-align: top;\n",
       "    }\n",
       "\n",
       "    .dataframe thead th {\n",
       "        text-align: right;\n",
       "    }\n",
       "</style>\n",
       "<table border=\"1\" class=\"dataframe\">\n",
       "  <thead>\n",
       "    <tr style=\"text-align: right;\">\n",
       "      <th></th>\n",
       "      <th>hashtag</th>\n",
       "      <th>Frequency</th>\n",
       "    </tr>\n",
       "  </thead>\n",
       "  <tbody>\n",
       "    <tr>\n",
       "      <th>0</th>\n",
       "      <td>روسيا</td>\n",
       "      <td>900</td>\n",
       "    </tr>\n",
       "    <tr>\n",
       "      <th>1</th>\n",
       "      <td>أوكرانيا</td>\n",
       "      <td>577</td>\n",
       "    </tr>\n",
       "    <tr>\n",
       "      <th>2</th>\n",
       "      <td>بوتين</td>\n",
       "      <td>297</td>\n",
       "    </tr>\n",
       "    <tr>\n",
       "      <th>3</th>\n",
       "      <td>اوكرانيا</td>\n",
       "      <td>213</td>\n",
       "    </tr>\n",
       "    <tr>\n",
       "      <th>4</th>\n",
       "      <td>الحرب_الروسية_الاوكرانية</td>\n",
       "      <td>188</td>\n",
       "    </tr>\n",
       "    <tr>\n",
       "      <th>5</th>\n",
       "      <td>روسيا_اوكرانيا</td>\n",
       "      <td>150</td>\n",
       "    </tr>\n",
       "    <tr>\n",
       "      <th>6</th>\n",
       "      <td>الحرب_الروسية_الأوكرانية</td>\n",
       "      <td>97</td>\n",
       "    </tr>\n",
       "    <tr>\n",
       "      <th>7</th>\n",
       "      <td>روسيا_واوكرانيا</td>\n",
       "      <td>88</td>\n",
       "    </tr>\n",
       "    <tr>\n",
       "      <th>8</th>\n",
       "      <td>Russia</td>\n",
       "      <td>81</td>\n",
       "    </tr>\n",
       "    <tr>\n",
       "      <th>9</th>\n",
       "      <td>الحرب_العالمية_الثالثة</td>\n",
       "      <td>73</td>\n",
       "    </tr>\n",
       "  </tbody>\n",
       "</table>\n",
       "</div>"
      ],
      "text/plain": [
       "                    hashtag  Frequency\n",
       "0                     روسيا        900\n",
       "1                  أوكرانيا        577\n",
       "2                     بوتين        297\n",
       "3                  اوكرانيا        213\n",
       "4  الحرب_الروسية_الاوكرانية        188\n",
       "5            روسيا_اوكرانيا        150\n",
       "6  الحرب_الروسية_الأوكرانية         97\n",
       "7           روسيا_واوكرانيا         88\n",
       "8                    Russia         81\n",
       "9    الحرب_العالمية_الثالثة         73"
      ]
     },
     "execution_count": 318,
     "metadata": {},
     "output_type": "execute_result"
    }
   ],
   "source": [
    "# positive\n",
    "hashtag=[]\n",
    "Hashtags(positive_join, hashtag)"
   ]
  },
  {
   "cell_type": "code",
   "execution_count": 319,
   "id": "9f93a495",
   "metadata": {},
   "outputs": [
    {
     "data": {
      "text/html": [
       "<div>\n",
       "<style scoped>\n",
       "    .dataframe tbody tr th:only-of-type {\n",
       "        vertical-align: middle;\n",
       "    }\n",
       "\n",
       "    .dataframe tbody tr th {\n",
       "        vertical-align: top;\n",
       "    }\n",
       "\n",
       "    .dataframe thead th {\n",
       "        text-align: right;\n",
       "    }\n",
       "</style>\n",
       "<table border=\"1\" class=\"dataframe\">\n",
       "  <thead>\n",
       "    <tr style=\"text-align: right;\">\n",
       "      <th></th>\n",
       "      <th>hashtag</th>\n",
       "      <th>Frequency</th>\n",
       "    </tr>\n",
       "  </thead>\n",
       "  <tbody>\n",
       "    <tr>\n",
       "      <th>0</th>\n",
       "      <td>روسيا</td>\n",
       "      <td>1181</td>\n",
       "    </tr>\n",
       "    <tr>\n",
       "      <th>1</th>\n",
       "      <td>أوكرانيا</td>\n",
       "      <td>1132</td>\n",
       "    </tr>\n",
       "    <tr>\n",
       "      <th>2</th>\n",
       "      <td>بوتين</td>\n",
       "      <td>317</td>\n",
       "    </tr>\n",
       "    <tr>\n",
       "      <th>3</th>\n",
       "      <td>اوكرانيا</td>\n",
       "      <td>226</td>\n",
       "    </tr>\n",
       "    <tr>\n",
       "      <th>4</th>\n",
       "      <td>الحرب_الروسية_الاوكرانية</td>\n",
       "      <td>224</td>\n",
       "    </tr>\n",
       "    <tr>\n",
       "      <th>5</th>\n",
       "      <td>الحرب_الروسية_الأوكرانية</td>\n",
       "      <td>224</td>\n",
       "    </tr>\n",
       "    <tr>\n",
       "      <th>6</th>\n",
       "      <td>روسيا_اوكرانيا</td>\n",
       "      <td>187</td>\n",
       "    </tr>\n",
       "    <tr>\n",
       "      <th>7</th>\n",
       "      <td>Ukraine</td>\n",
       "      <td>117</td>\n",
       "    </tr>\n",
       "    <tr>\n",
       "      <th>8</th>\n",
       "      <td>روسيا_واوكرانيا</td>\n",
       "      <td>110</td>\n",
       "    </tr>\n",
       "    <tr>\n",
       "      <th>9</th>\n",
       "      <td>كييف</td>\n",
       "      <td>109</td>\n",
       "    </tr>\n",
       "  </tbody>\n",
       "</table>\n",
       "</div>"
      ],
      "text/plain": [
       "                    hashtag  Frequency\n",
       "0                     روسيا       1181\n",
       "1                  أوكرانيا       1132\n",
       "2                     بوتين        317\n",
       "3                  اوكرانيا        226\n",
       "4  الحرب_الروسية_الاوكرانية        224\n",
       "5  الحرب_الروسية_الأوكرانية        224\n",
       "6            روسيا_اوكرانيا        187\n",
       "7                   Ukraine        117\n",
       "8           روسيا_واوكرانيا        110\n",
       "9                      كييف        109"
      ]
     },
     "execution_count": 319,
     "metadata": {},
     "output_type": "execute_result"
    }
   ],
   "source": [
    "# negative\n",
    "hashtag=[]\n",
    "Hashtags(negative_join, hashtag)"
   ]
  },
  {
   "cell_type": "code",
   "execution_count": 320,
   "id": "f7a45cf8",
   "metadata": {},
   "outputs": [
    {
     "data": {
      "text/html": [
       "<div>\n",
       "<style scoped>\n",
       "    .dataframe tbody tr th:only-of-type {\n",
       "        vertical-align: middle;\n",
       "    }\n",
       "\n",
       "    .dataframe tbody tr th {\n",
       "        vertical-align: top;\n",
       "    }\n",
       "\n",
       "    .dataframe thead th {\n",
       "        text-align: right;\n",
       "    }\n",
       "</style>\n",
       "<table border=\"1\" class=\"dataframe\">\n",
       "  <thead>\n",
       "    <tr style=\"text-align: right;\">\n",
       "      <th></th>\n",
       "      <th>hashtag</th>\n",
       "      <th>Frequency</th>\n",
       "    </tr>\n",
       "  </thead>\n",
       "  <tbody>\n",
       "    <tr>\n",
       "      <th>0</th>\n",
       "      <td>روسيا</td>\n",
       "      <td>563</td>\n",
       "    </tr>\n",
       "    <tr>\n",
       "      <th>1</th>\n",
       "      <td>أوكرانيا</td>\n",
       "      <td>354</td>\n",
       "    </tr>\n",
       "    <tr>\n",
       "      <th>2</th>\n",
       "      <td>الحرب_الروسية_الاوكرانية</td>\n",
       "      <td>120</td>\n",
       "    </tr>\n",
       "    <tr>\n",
       "      <th>3</th>\n",
       "      <td>اوكرانيا</td>\n",
       "      <td>97</td>\n",
       "    </tr>\n",
       "    <tr>\n",
       "      <th>4</th>\n",
       "      <td>بوتين</td>\n",
       "      <td>94</td>\n",
       "    </tr>\n",
       "    <tr>\n",
       "      <th>5</th>\n",
       "      <td>روسيا_اوكرانيا</td>\n",
       "      <td>81</td>\n",
       "    </tr>\n",
       "    <tr>\n",
       "      <th>6</th>\n",
       "      <td>روسيا_واوكرانيا</td>\n",
       "      <td>69</td>\n",
       "    </tr>\n",
       "    <tr>\n",
       "      <th>7</th>\n",
       "      <td>Ukraine</td>\n",
       "      <td>67</td>\n",
       "    </tr>\n",
       "    <tr>\n",
       "      <th>8</th>\n",
       "      <td>حرب_روسيا_أوكرانيا</td>\n",
       "      <td>62</td>\n",
       "    </tr>\n",
       "    <tr>\n",
       "      <th>9</th>\n",
       "      <td>الحرب_العالمية_الثالثة</td>\n",
       "      <td>59</td>\n",
       "    </tr>\n",
       "  </tbody>\n",
       "</table>\n",
       "</div>"
      ],
      "text/plain": [
       "                    hashtag  Frequency\n",
       "0                     روسيا        563\n",
       "1                  أوكرانيا        354\n",
       "2  الحرب_الروسية_الاوكرانية        120\n",
       "3                  اوكرانيا         97\n",
       "4                     بوتين         94\n",
       "5            روسيا_اوكرانيا         81\n",
       "6           روسيا_واوكرانيا         69\n",
       "7                   Ukraine         67\n",
       "8        حرب_روسيا_أوكرانيا         62\n",
       "9    الحرب_العالمية_الثالثة         59"
      ]
     },
     "execution_count": 320,
     "metadata": {},
     "output_type": "execute_result"
    }
   ],
   "source": [
    "# irrelevent\n",
    "hashtag=[]\n",
    "Hashtags(irrelevent_join, hashtag)"
   ]
  },
  {
   "cell_type": "markdown",
   "id": "hIwnQVuas5hE",
   "metadata": {
    "id": "hIwnQVuas5hE"
   },
   "source": [
    "## [2.7]"
   ]
  },
  {
   "cell_type": "code",
   "execution_count": 321,
   "id": "974fb58e",
   "metadata": {},
   "outputs": [
    {
     "data": {
      "text/plain": [
       "<BarContainer object of 26254 artists>"
      ]
     },
     "execution_count": 321,
     "metadata": {},
     "output_type": "execute_result"
    },
    {
     "data": {
      "image/png": "[encoded data removed]",
      "text/plain": [
       "<Figure size 432x288 with 1 Axes>"
      ]
     },
     "metadata": {
      "needs_background": "light"
     },
     "output_type": "display_data"
    }
   ],
   "source": [
    "text_token_tweet=[]\n",
    "text_token_tweet = Text_Tokened\n",
    "list_len_token_tweet=[]\n",
    "\n",
    "for tweet_token in text_token_tweet:\n",
    "    list_len_token_tweet.append(len(tweet_token))\n",
    "    \n",
    "\n",
    "plt.bar(range(len(list_len_token_tweet)), list_len_token_tweet)\n",
    "\n"
   ]
  },
  {
   "cell_type": "markdown",
   "id": "7orTRN5vs9vp",
   "metadata": {
    "id": "7orTRN5vs9vp"
   },
   "source": [
    "## [2.8]"
   ]
  },
  {
   "cell_type": "code",
   "execution_count": null,
   "id": "gIsBqnmXs_Mi",
   "metadata": {
    "id": "gIsBqnmXs_Mi"
   },
   "outputs": [],
   "source": [
    "# LDA"
   ]
  },
  {
   "cell_type": "markdown",
   "id": "oFmJ2HWqRNZa",
   "metadata": {
    "id": "oFmJ2HWqRNZa"
   },
   "source": [
    "# Step [3]: Text Cleaning and Normalization"
   ]
  },
  {
   "cell_type": "markdown",
   "id": "cwaCNfS9RNZc",
   "metadata": {
    "id": "cwaCNfS9RNZc"
   },
   "source": [
    "## [3.1] \n"
   ]
  },
  {
   "cell_type": "code",
   "execution_count": 365,
   "id": "68e9e617",
   "metadata": {},
   "outputs": [
    {
     "data": {
      "text/plain": [
       "'قناة الجزيرة تنقل الاحداث في اوكرانيا وكأنها تنقل احداث سوريا في السابق فبركات وفيديوهات لبنات اوكرانيا بيبكوا والمهم غاغه ومفراغه\\nهذة القناة الدجااااااااا له تستحق لقب الناطقه باسم المسيح الدجا ل ,@AJABreaking النصر لاوكرانيا البطله الصامده 🔥🔥💪🇺🇦 ,@ZAINABKADYROV اللله يكون مع روسيا من ثعالب الأرض ,جرائم حرب تجري الآن في #أوكرانيا يتحمل مسؤوليتها الرئيس الروسي\\nمارك كميت المساعد السابق لوزير الخارجية الأميركي في #البعد_الآخر.\\n\\nالحلقة الكاملة: https://t.co/nhKzyFoRBi\\n\\n#روسيا_وأوكرانيا\\n@muntaharamahi https://t.co/fVffQKk9XH ,إطاله أمد الحرب قليلاً (أسابيع)\\nثم صواريخ أوكرانيه (من أمريكا) تضرب عمق روسيا \\nروسيا أصلا فيها مشاكل داخليه وجزء غير قليل من الشعب ضد الغزو\\n\\nمع استمرار العقوبات الإقتصاديه\\n\\nهتسقط روسيا وتكون نهايه بوتين كهتلر\\n#روسيا_واوكرانيا'"
      ]
     },
     "execution_count": 365,
     "metadata": {},
     "output_type": "execute_result"
    }
   ],
   "source": [
    "Five_tweets_join=[]\n",
    "Five_tweets=text[0:5]\n",
    "Five_tweets_join=\" ,\".join(Five_tweets)\n",
    "Five_tweets_join"
   ]
  },
  {
   "cell_type": "code",
   "execution_count": 323,
   "id": "LhllhojDRNZd",
   "metadata": {
    "id": "LhllhojDRNZd"
   },
   "outputs": [],
   "source": [
    "def delete_links(text ): \n",
    "    text = re.sub(r'https?\\/\\/S+', '',  text) # remove the hyperlink\n",
    "    text = re.sub(r'http\\S+', '',  text) # remove the hyperlink\n",
    "    text = re.sub(r'www\\S+', '',  text) # remove the www\n",
    "    return text\n",
    "\n",
    "def delete_mentions(text): \n",
    "    return re.sub(r'@[A-Za-z0-9]+', '', text)\n",
    "     "
   ]
  },
  {
   "cell_type": "code",
   "execution_count": 384,
   "id": "aae0dcbe",
   "metadata": {},
   "outputs": [
    {
     "data": {
      "text/plain": [
       "'قناة الجزيرة تنقل الاحداث في اوكرانيا وكأنها تنقل احداث سوريا في السابق فبركات وفيديوهات لبنات اوكرانيا بيبكوا والمهم غاغه ومفراغه\\nهذة القناة الدجااااااااا له تستحق لقب الناطقه باسم المسيح الدجا ل ,@AJABreaking النصر لاوكرانيا البطله الصامده 🔥🔥💪🇺🇦 ,@ZAINABKADYROV اللله يكون مع روسيا من ثعالب الأرض ,جرائم حرب تجري الآن في #أوكرانيا يتحمل مسؤوليتها الرئيس الروسي\\nمارك كميت المساعد السابق لوزير الخارجية الأميركي في #البعد_الآخر.\\n\\nالحلقة الكاملة: \\n\\n#روسيا_وأوكرانيا\\n@muntaharamahi  ,إطاله أمد الحرب قليلاً (أسابيع)\\nثم صواريخ أوكرانيه (من أمريكا) تضرب عمق روسيا \\nروسيا أصلا فيها مشاكل داخليه وجزء غير قليل من الشعب ضد الغزو\\n\\nمع استمرار العقوبات الإقتصاديه\\n\\nهتسقط روسيا وتكون نهايه بوتين كهتلر\\n#روسيا_واوكرانيا أهؤلاء من أولئكُ   العـــــربية   الْعَرَبِيّةُ   الْعَرَبِيّةُ  '"
      ]
     },
     "execution_count": 384,
     "metadata": {},
     "output_type": "execute_result"
    }
   ],
   "source": [
    "delete_links(Five_tweets_join)"
   ]
  },
  {
   "cell_type": "code",
   "execution_count": 325,
   "id": "75d6dd5f",
   "metadata": {},
   "outputs": [
    {
     "data": {
      "text/plain": [
       "'قناة الجزيرة تنقل الاحداث في اوكرانيا وكأنها تنقل احداث سوريا في السابق فبركات وفيديوهات لبنات اوكرانيا بيبكوا والمهم غاغه ومفراغه\\nهذة القناة الدجااااااااا له تستحق لقب الناطقه باسم المسيح الدجا ل , النصر لاوكرانيا البطله الصامده 🔥🔥💪🇺🇦 , اللله يكون مع روسيا من ثعالب الأرض ,جرائم حرب تجري الآن في #أوكرانيا يتحمل مسؤوليتها الرئيس الروسي\\nمارك كميت المساعد السابق لوزير الخارجية الأميركي في #البعد_الآخر.\\n\\nالحلقة الكاملة: https://t.co/nhKzyFoRBi\\n\\n#روسيا_وأوكرانيا\\n https://t.co/fVffQKk9XH ,إطاله أمد الحرب قليلاً (أسابيع)\\nثم صواريخ أوكرانيه (من أمريكا) تضرب عمق روسيا \\nروسيا أصلا فيها مشاكل داخليه وجزء غير قليل من الشعب ضد الغزو\\n\\nمع استمرار العقوبات الإقتصاديه\\n\\nهتسقط روسيا وتكون نهايه بوتين كهتلر\\n#روسيا_واوكرانيا'"
      ]
     },
     "execution_count": 325,
     "metadata": {},
     "output_type": "execute_result"
    }
   ],
   "source": [
    "delete_mentions(Five_tweets_join)"
   ]
  },
  {
   "cell_type": "markdown",
   "id": "MbJeF_CxRNZd",
   "metadata": {
    "id": "MbJeF_CxRNZd"
   },
   "source": [
    "## [3.2] "
   ]
  },
  {
   "cell_type": "code",
   "execution_count": 328,
   "id": "M_bO-W2DRNZe",
   "metadata": {
    "id": "M_bO-W2DRNZe"
   },
   "outputs": [],
   "source": [
    "def delete_hashtags1(text):\n",
    "    return re.sub(r\"#(\\S+)\",'', text)\n",
    "\n",
    "def delete_hashtags2(text):\n",
    "    return re.sub(r\"#\",'', text)"
   ]
  },
  {
   "cell_type": "code",
   "execution_count": 329,
   "id": "5c58ebf7",
   "metadata": {},
   "outputs": [
    {
     "data": {
      "text/plain": [
       "'قناة الجزيرة تنقل الاحداث في اوكرانيا وكأنها تنقل احداث سوريا في السابق فبركات وفيديوهات لبنات اوكرانيا بيبكوا والمهم غاغه ومفراغه\\nهذة القناة الدجااااااااا له تستحق لقب الناطقه باسم المسيح الدجا ل ,@AJABreaking النصر لاوكرانيا البطله الصامده 🔥🔥💪🇺🇦 ,@ZAINABKADYROV اللله يكون مع روسيا من ثعالب الأرض ,جرائم حرب تجري الآن في أوكرانيا يتحمل مسؤوليتها الرئيس الروسي\\nمارك كميت المساعد السابق لوزير الخارجية الأميركي في البعد_الآخر.\\n\\nالحلقة الكاملة: https://t.co/nhKzyFoRBi\\n\\nروسيا_وأوكرانيا\\n@muntaharamahi https://t.co/fVffQKk9XH ,إطاله أمد الحرب قليلاً (أسابيع)\\nثم صواريخ أوكرانيه (من أمريكا) تضرب عمق روسيا \\nروسيا أصلا فيها مشاكل داخليه وجزء غير قليل من الشعب ضد الغزو\\n\\nمع استمرار العقوبات الإقتصاديه\\n\\nهتسقط روسيا وتكون نهايه بوتين كهتلر\\nروسيا_واوكرانيا'"
      ]
     },
     "execution_count": 329,
     "metadata": {},
     "output_type": "execute_result"
    }
   ],
   "source": [
    "delete_hashtags2(Five_tweets_join)"
   ]
  },
  {
   "cell_type": "markdown",
   "id": "GY-HhD2YRNZe",
   "metadata": {
    "id": "GY-HhD2YRNZe"
   },
   "source": [
    "## [3.3] "
   ]
  },
  {
   "cell_type": "code",
   "execution_count": 330,
   "id": "l-5TSuHWRNZe",
   "metadata": {
    "id": "l-5TSuHWRNZe"
   },
   "outputs": [],
   "source": [
    "def Delete_duplicate_characters(text):\n",
    "    return re.sub(r'(.)\\1+', r'\\1', text)"
   ]
  },
  {
   "cell_type": "code",
   "execution_count": 331,
   "id": "18b6b577",
   "metadata": {},
   "outputs": [
    {
     "data": {
      "text/plain": [
       "'قناة الجزيرة تنقل الاحداث في اوكرانيا وكأنها تنقل احداث سوريا في السابق فبركات وفيديوهات لبنات اوكرانيا بيبكوا والمهم غاغه ومفراغه\\nهذة القناة الدجا له تستحق لقب الناطقه باسم المسيح الدجا ل ,@AJABreaking النصر لاوكرانيا البطله الصامده 🔥💪🇺🇦 ,@ZAINABKADYROV اله يكون مع روسيا من ثعالب الأرض ,جرائم حرب تجري الآن في #أوكرانيا يتحمل مسؤوليتها الرئيس الروسي\\nمارك كميت المساعد السابق لوزير الخارجية الأميركي في #البعد_الآخر.\\n\\nالحلقة الكاملة: htps:/t.co/nhKzyFoRBi\\n\\n#روسيا_وأوكرانيا\\n@muntaharamahi htps:/t.co/fVfQKk9XH ,إطاله أمد الحرب قليلاً (أسابيع)\\nثم صواريخ أوكرانيه (من أمريكا) تضرب عمق روسيا \\nروسيا أصلا فيها مشاكل داخليه وجزء غير قليل من الشعب ضد الغزو\\n\\nمع استمرار العقوبات الإقتصاديه\\n\\nهتسقط روسيا وتكون نهايه بوتين كهتلر\\n#روسيا_واوكرانيا'"
      ]
     },
     "execution_count": 331,
     "metadata": {},
     "output_type": "execute_result"
    }
   ],
   "source": [
    " Delete_duplicate_characters(Five_tweets_join)"
   ]
  },
  {
   "cell_type": "markdown",
   "id": "KV9D86kbRNZe",
   "metadata": {
    "id": "KV9D86kbRNZe"
   },
   "source": [
    "## [3.4] "
   ]
  },
  {
   "cell_type": "markdown",
   "id": "3fM_FPldSCxp",
   "metadata": {
    "id": "3fM_FPldSCxp"
   },
   "source": [
    "### [3.4.1] "
   ]
  },
  {
   "cell_type": "code",
   "execution_count": 333,
   "id": "7c0aff8a",
   "metadata": {},
   "outputs": [],
   "source": [
    "def replace_Hindi_numbers_to_Arabic_number(text):\n",
    "    text=re.sub(r'٠', r'0', text)\n",
    "    text=re.sub(r'١', r'1', text)\n",
    "    text=re.sub(r'٢', r'2', text)\n",
    "    text=re.sub(r'٣', r'3', text)\n",
    "    text=re.sub(r'٤', r'4', text)\n",
    "    text=re.sub(r'٥', r'5', text)\n",
    "    text=re.sub(r'٦', r'6', text)\n",
    "    text=re.sub(r'٧', r'7', text)\n",
    "    text=re.sub(r'٨', r'8', text)\n",
    "    text=re.sub(r'٩', r'9', text)\n",
    "    return text  "
   ]
  },
  {
   "cell_type": "markdown",
   "id": "N2z1KmQXSAFs",
   "metadata": {
    "id": "N2z1KmQXSAFs"
   },
   "source": [
    "### [3.4.2] "
   ]
  },
  {
   "cell_type": "code",
   "execution_count": 337,
   "id": "fmOXIMWoSAFt",
   "metadata": {
    "id": "fmOXIMWoSAFt"
   },
   "outputs": [],
   "source": [
    "def standardize_number(text):\n",
    "    return re.sub(r'\\d+','*',text)\n"
   ]
  },
  {
   "cell_type": "code",
   "execution_count": 338,
   "id": "9dfeefdf",
   "metadata": {},
   "outputs": [
    {
     "data": {
      "text/plain": [
       "'terytg * *jfyhbe*'"
      ]
     },
     "execution_count": 338,
     "metadata": {},
     "output_type": "execute_result"
    }
   ],
   "source": [
    "tex='terytg 657٠٩٨٧٦٥٤٣٢١849 788843jfyhbe778٠٩٨٧٦٥٤٣٢١'\n",
    "standardize_number(tex)"
   ]
  },
  {
   "cell_type": "markdown",
   "id": "fCBHc2y6SAL5",
   "metadata": {
    "id": "fCBHc2y6SAL5"
   },
   "source": [
    "### [3.4.3] "
   ]
  },
  {
   "cell_type": "code",
   "execution_count": 173,
   "id": "QJX_PtSzSAL6",
   "metadata": {
    "id": "QJX_PtSzSAL6"
   },
   "outputs": [],
   "source": [
    "def delete_all_number(text):\n",
    "    return re.sub(r'\\d+','',text)"
   ]
  },
  {
   "cell_type": "markdown",
   "id": "P1aLjPbzRNZe",
   "metadata": {
    "id": "P1aLjPbzRNZe"
   },
   "source": [
    "## [3.5] "
   ]
  },
  {
   "cell_type": "markdown",
   "id": "dbqN7BceSRhS",
   "metadata": {
    "id": "dbqN7BceSRhS"
   },
   "source": [
    "### [3.5.1] "
   ]
  },
  {
   "cell_type": "code",
   "execution_count": 339,
   "id": "caLTQ8EtSRhT",
   "metadata": {
    "id": "caLTQ8EtSRhT"
   },
   "outputs": [],
   "source": [
    "def delete_punctuation_marks(text): \n",
    "    text = re.sub(r'\\n|[!\\\"\\＄%&\\'\\(\\)\\*\\+,-\\./:;<=>\\?\\[\\\\\\]\\^`{\\|}~،“؟”]^#(\\S+)', ' ', text)\n",
    "    \n",
    "    return text\n"
   ]
  },
  {
   "cell_type": "code",
   "execution_count": 340,
   "id": "1cb297f0",
   "metadata": {},
   "outputs": [
    {
     "data": {
      "text/plain": [
       "'قناة الجزيرة تنقل الاحداث في اوكرانيا وكأنها تنقل احداث سوريا في السابق فبركات وفيديوهات لبنات اوكرانيا بيبكوا والمهم غاغه ومفراغه هذة القناة الدجااااااااا له تستحق لقب الناطقه باسم المسيح الدجا ل ,@AJABreaking النصر لاوكرانيا البطله الصامده 🔥🔥💪🇺🇦 ,@ZAINABKADYROV اللله يكون مع روسيا من ثعالب الأرض ,جرائم حرب تجري الآن في #أوكرانيا يتحمل مسؤوليتها الرئيس الروسي مارك كميت المساعد السابق لوزير الخارجية الأميركي في #البعد_الآخر.  الحلقة الكاملة: https://t.co/nhKzyFoRBi  #روسيا_وأوكرانيا @muntaharamahi https://t.co/fVffQKk9XH ,إطاله أمد الحرب قليلاً (أسابيع) ثم صواريخ أوكرانيه (من أمريكا) تضرب عمق روسيا  روسيا أصلا فيها مشاكل داخليه وجزء غير قليل من الشعب ضد الغزو  مع استمرار العقوبات الإقتصاديه  هتسقط روسيا وتكون نهايه بوتين كهتلر #روسيا_واوكرانيا'"
      ]
     },
     "execution_count": 340,
     "metadata": {},
     "output_type": "execute_result"
    }
   ],
   "source": [
    "delete_punctuation_marks(Five_tweets_join)"
   ]
  },
  {
   "cell_type": "markdown",
   "id": "rad8wPeSSRhU",
   "metadata": {
    "id": "rad8wPeSSRhU"
   },
   "source": [
    "### [3.5.2] "
   ]
  },
  {
   "cell_type": "code",
   "execution_count": 341,
   "id": "5678117d",
   "metadata": {},
   "outputs": [],
   "source": [
    "imoji_regex=re.compile(\"[\"\n",
    "                           u\"\\U0001F600-\\U0001F64F\"  # emoticons\n",
    "                           u\"\\U0001F300-\\U0001F5FF\"  # symbols & pictographs\n",
    "                           u\"\\U0001F680-\\U0001F6FF\"  # transport & map symbols\n",
    "                           u\"\\U0001F1E0-\\U0001F1FF\"  # flags (iOS)\n",
    "                           u\"\\U00002702-\\U000027B0\"\n",
    "                           u\"\\U000024C2-\\U0001F251\"\n",
    "                           \"]+\", flags=re.UNICODE)\n",
    "\n",
    "def delete_imojis(text): \n",
    "    text = re.sub(imoji_regex ,' ', text);\n",
    "    return text"
   ]
  },
  {
   "cell_type": "code",
   "execution_count": 342,
   "id": "799bba6b",
   "metadata": {},
   "outputs": [
    {
     "data": {
      "text/plain": [
       "'قناة الجزيرة تنقل الاحداث في اوكرانيا وكأنها تنقل احداث سوريا في السابق فبركات وفيديوهات لبنات اوكرانيا بيبكوا والمهم غاغه ومفراغه\\nهذة القناة الدجااااااااا له تستحق لقب الناطقه باسم المسيح الدجا ل ,@AJABreaking النصر لاوكرانيا البطله الصامده   ,@ZAINABKADYROV اللله يكون مع روسيا من ثعالب الأرض ,جرائم حرب تجري الآن في #أوكرانيا يتحمل مسؤوليتها الرئيس الروسي\\nمارك كميت المساعد السابق لوزير الخارجية الأميركي في #البعد_الآخر.\\n\\nالحلقة الكاملة: https://t.co/nhKzyFoRBi\\n\\n#روسيا_وأوكرانيا\\n@muntaharamahi https://t.co/fVffQKk9XH ,إطاله أمد الحرب قليلاً (أسابيع)\\nثم صواريخ أوكرانيه (من أمريكا) تضرب عمق روسيا \\nروسيا أصلا فيها مشاكل داخليه وجزء غير قليل من الشعب ضد الغزو\\n\\nمع استمرار العقوبات الإقتصاديه\\n\\nهتسقط روسيا وتكون نهايه بوتين كهتلر\\n#روسيا_واوكرانيا'"
      ]
     },
     "execution_count": 342,
     "metadata": {},
     "output_type": "execute_result"
    }
   ],
   "source": [
    "delete_imojis(Five_tweets_join)"
   ]
  },
  {
   "cell_type": "markdown",
   "id": "FbIUIkezSRhU",
   "metadata": {
    "id": "FbIUIkezSRhU"
   },
   "source": [
    "### [3.5.3] "
   ]
  },
  {
   "cell_type": "code",
   "execution_count": 345,
   "id": "otquvQjuSRhV",
   "metadata": {
    "id": "otquvQjuSRhV"
   },
   "outputs": [],
   "source": [
    "def delete_NON_Arabics(text): \n",
    "    Regex_non_arabic=r'\\d+|[\\u0660-\\u0669]|[\\!\\\"\\＄%&\\'\\(\\)\\*\\+,-\\./:;<=>\\?\\[\\\\\\]\\^`{\\|}~،“؟”]|#|_|[\\u0600-\\u06FF]|\\s|[u\"\\U0001F600-\\U0001F64F\"\"\\U0001F300-\\U0001F5FF\"u\"\\U0001F680-\\U0001F6FF\"u\"\\U0001F1E0-\\U0001F1FF\"u\"\\U00002702-\\U000027B0\"u\"\\U000024C2-\\U0001F251\"]+'\n",
    "    arabic_words = \"\".join(re.findall(Regex_non_arabic, text))\n",
    "    return arabic_words"
   ]
  },
  {
   "cell_type": "markdown",
   "id": "N4WDktTgRNZf",
   "metadata": {
    "id": "N4WDktTgRNZf"
   },
   "source": [
    "## [3.6] "
   ]
  },
  {
   "cell_type": "code",
   "execution_count": 66,
   "id": "B6icsYsFRNZf",
   "metadata": {
    "id": "B6icsYsFRNZf"
   },
   "outputs": [
    {
     "name": "stdout",
     "output_type": "stream",
     "text": [
      "661518\n",
      "754\n"
     ]
    }
   ],
   "source": [
    "flatten_Text_Tokened = [w for w in flatten_Text_Tokened if w not in stopwords.words(\"arabic\")]\n",
    "print(len(flatten_Text_Tokened))\n",
    "print(len(stopwords.words(\"arabic\")))"
   ]
  },
  {
   "cell_type": "markdown",
   "id": "wbGPWNtoR4p-",
   "metadata": {
    "id": "wbGPWNtoR4p-"
   },
   "source": [
    "## [3.7] "
   ]
  },
  {
   "cell_type": "code",
   "execution_count": 346,
   "id": "fAiyofe3R4qA",
   "metadata": {
    "id": "fAiyofe3R4qA"
   },
   "outputs": [],
   "source": [
    "\n",
    "def Stemming_English(text_token):\n",
    "    lancaster = nltk.LancasterStemmer() \n",
    "    return [(t,lancaster.stem(t)) for t in text_token]\n",
    "    \n"
   ]
  },
  {
   "cell_type": "code",
   "execution_count": 347,
   "id": "3c9715d5",
   "metadata": {},
   "outputs": [
    {
     "data": {
      "text/plain": [
       "[('Eyaaaad', 'eyaaaad'),\n",
       " ('ومعاملاتها', 'ومعاملاتها'),\n",
       " ('مع', 'مع'),\n",
       " ('امريكا', 'امريكا'),\n",
       " ('ب', 'ب'),\n",
       " ('?', '?'),\n",
       " ('?', '?'),\n",
       " ('?', '?'),\n",
       " ('مليار', 'مليار'),\n",
       " ('سنويا', 'سنويا'),\n",
       " ('وتكون', 'وتكون'),\n",
       " ('ف', 'ف'),\n",
       " ('المرتبه', 'المرتبه'),\n",
       " ('?', '?'),\n",
       " ('من', 'من'),\n",
       " ('الدول', 'الدول'),\n",
       " ('اللي', 'اللي'),\n",
       " ('تتعامل', 'تتعامل'),\n",
       " ('مع', 'مع')]"
      ]
     },
     "execution_count": 347,
     "metadata": {},
     "output_type": "execute_result"
    }
   ],
   "source": [
    "Stemming_English(token_irrelevent[1:20])"
   ]
  },
  {
   "cell_type": "code",
   "execution_count": 348,
   "id": "921c1123",
   "metadata": {},
   "outputs": [],
   "source": [
    "def Stemming_Arabic (text_token):\n",
    "    ArListem = ArabicLightStemmer()    \n",
    "    return [(t,ArListem.light_stem(t)) for t in text_token]"
   ]
  },
  {
   "cell_type": "code",
   "execution_count": 349,
   "id": "cdac5785",
   "metadata": {},
   "outputs": [
    {
     "data": {
      "text/plain": [
       "[('Eyaaaad', 'Eyaaaad'),\n",
       " ('ومعاملاتها', 'معامل'),\n",
       " ('مع', 'مع'),\n",
       " ('امريكا', 'امريك'),\n",
       " ('ب', 'ب'),\n",
       " ('?', '?'),\n",
       " ('?', '?'),\n",
       " ('?', '?'),\n",
       " ('مليار', 'مليار'),\n",
       " ('سنويا', 'ويا'),\n",
       " ('وتكون', 'كو'),\n",
       " ('ف', 'ف'),\n",
       " ('المرتبه', 'مرتبه'),\n",
       " ('?', '?'),\n",
       " ('من', 'من'),\n",
       " ('الدول', 'دول'),\n",
       " ('اللي', 'لي'),\n",
       " ('تتعامل', 'تعامل'),\n",
       " ('مع', 'مع')]"
      ]
     },
     "execution_count": 349,
     "metadata": {},
     "output_type": "execute_result"
    }
   ],
   "source": [
    "Stemming_Arabic(token_irrelevent[1:20])"
   ]
  },
  {
   "cell_type": "markdown",
   "id": "V-rCzzoMR41T",
   "metadata": {
    "id": "V-rCzzoMR41T"
   },
   "source": [
    "## [3.8] "
   ]
  },
  {
   "cell_type": "markdown",
   "id": "iXF2L4Z-Sd3N",
   "metadata": {
    "id": "iXF2L4Z-Sd3N"
   },
   "source": [
    "### [3.8.1] "
   ]
  },
  {
   "cell_type": "code",
   "execution_count": 361,
   "id": "wk-Z3Gw4Sd3O",
   "metadata": {
    "id": "wk-Z3Gw4Sd3O"
   },
   "outputs": [],
   "source": [
    "def normalize_hamza(text):\n",
    "    arabconst.ALEFAT_PAT.sub(arabconst.ALEF, text)\n",
    "    return arabconst.HAMZAT_PAT.sub(arabconst.HAMZA, text)"
   ]
  },
  {
   "cell_type": "markdown",
   "id": "ij5gdJA4Sd3O",
   "metadata": {
    "id": "ij5gdJA4Sd3O"
   },
   "source": [
    "### [3.8.2] "
   ]
  },
  {
   "cell_type": "code",
   "execution_count": 366,
   "id": "bDLOsd4tSd3O",
   "metadata": {
    "id": "bDLOsd4tSd3O"
   },
   "outputs": [],
   "source": [
    "def normalize_ALEFAT(text):\n",
    "    return arabconst.ALEFAT_PAT.sub(arabconst.ALEF, text)"
   ]
  },
  {
   "cell_type": "code",
   "execution_count": 367,
   "id": "c3d855b7",
   "metadata": {},
   "outputs": [
    {
     "data": {
      "text/plain": [
       "'قناة الجزيرة تنقل الاحداث في اوكرانيا وكانها تنقل احداث سوريا في السابق فبركات وفيديوهات لبنات اوكرانيا بيبكوا والمهم غاغه ومفراغه\\nهذة القناة الدجااااااااا له تستحق لقب الناطقه باسم المسيح الدجا ل ,@AJABreaking النصر لاوكرانيا البطله الصامده 🔥🔥💪🇺🇦 ,@ZAINABKADYROV اللله يكون مع روسيا من ثعالب الارض ,جرائم حرب تجري الان في #اوكرانيا يتحمل مسؤوليتها الرئيس الروسي\\nمارك كميت المساعد السابق لوزير الخارجية الاميركي في #البعد_الاخر.\\n\\nالحلقة الكاملة: https://t.co/nhKzyFoRBi\\n\\n#روسيا_واوكرانيا\\n@muntaharamahi https://t.co/fVffQKk9XH ,اطاله امد الحرب قليلاً (اسابيع)\\nثم صواريخ اوكرانيه (من امريكا) تضرب عمق روسيا \\nروسيا اصلا فيها مشاكل داخليه وجزء غير قليل من الشعب ضد الغزو\\n\\nمع استمرار العقوبات الاقتصاديه\\n\\nهتسقط روسيا وتكون نهايه بوتين كهتلر\\n#روسيا_واوكرانيا اهؤلاء من اولئكُ  '"
      ]
     },
     "execution_count": 367,
     "metadata": {},
     "output_type": "execute_result"
    }
   ],
   "source": [
    "Five_tweets_join=Five_tweets_join+\" أهؤلاء من أولئكُ  \"\n",
    "\n",
    "normalize_ALEFAT(Five_tweets_join)"
   ]
  },
  {
   "cell_type": "markdown",
   "id": "H6k8JnJDSd3P",
   "metadata": {
    "id": "H6k8JnJDSd3P"
   },
   "source": [
    "### [3.8.3] "
   ]
  },
  {
   "cell_type": "code",
   "execution_count": 368,
   "id": "JhSOCYLmSd3P",
   "metadata": {
    "id": "JhSOCYLmSd3P"
   },
   "outputs": [],
   "source": [
    "def strip_tatweel(text):\n",
    "    return re.sub(u'[%s]' % arabconst.TATWEEL, '', text)"
   ]
  },
  {
   "cell_type": "code",
   "execution_count": 369,
   "id": "1cdbbf31",
   "metadata": {},
   "outputs": [
    {
     "data": {
      "text/plain": [
       "'قناة الجزيرة تنقل الاحداث في اوكرانيا وكأنها تنقل احداث سوريا في السابق فبركات وفيديوهات لبنات اوكرانيا بيبكوا والمهم غاغه ومفراغه\\nهذة القناة الدجااااااااا له تستحق لقب الناطقه باسم المسيح الدجا ل ,@AJABreaking النصر لاوكرانيا البطله الصامده 🔥🔥💪🇺🇦 ,@ZAINABKADYROV اللله يكون مع روسيا من ثعالب الأرض ,جرائم حرب تجري الآن في #أوكرانيا يتحمل مسؤوليتها الرئيس الروسي\\nمارك كميت المساعد السابق لوزير الخارجية الأميركي في #البعد_الآخر.\\n\\nالحلقة الكاملة: https://t.co/nhKzyFoRBi\\n\\n#روسيا_وأوكرانيا\\n@muntaharamahi https://t.co/fVffQKk9XH ,إطاله أمد الحرب قليلاً (أسابيع)\\nثم صواريخ أوكرانيه (من أمريكا) تضرب عمق روسيا \\nروسيا أصلا فيها مشاكل داخليه وجزء غير قليل من الشعب ضد الغزو\\n\\nمع استمرار العقوبات الإقتصاديه\\n\\nهتسقط روسيا وتكون نهايه بوتين كهتلر\\n#روسيا_واوكرانيا أهؤلاء من أولئكُ   العربية  '"
      ]
     },
     "execution_count": 369,
     "metadata": {},
     "output_type": "execute_result"
    }
   ],
   "source": [
    "Five_tweets_join=Five_tweets_join+\" العـــــربية  \"\n",
    "strip_tatweel(Five_tweets_join)\n"
   ]
  },
  {
   "cell_type": "markdown",
   "id": "1TmDb343Sls9",
   "metadata": {
    "id": "1TmDb343Sls9"
   },
   "source": [
    "### [3.8.4] "
   ]
  },
  {
   "cell_type": "code",
   "execution_count": 370,
   "id": "wWJ-Z11_Sls-",
   "metadata": {
    "id": "wWJ-Z11_Sls-"
   },
   "outputs": [],
   "source": [
    "def strip_tashkeel(text):\n",
    "    return arabconst.HARAKAT_PAT.sub('', text)"
   ]
  },
  {
   "cell_type": "code",
   "execution_count": 371,
   "id": "722bf410",
   "metadata": {},
   "outputs": [
    {
     "data": {
      "text/plain": [
       "'قناة الجزيرة تنقل الاحداث في اوكرانيا وكأنها تنقل احداث سوريا في السابق فبركات وفيديوهات لبنات اوكرانيا بيبكوا والمهم غاغه ومفراغه\\nهذة القناة الدجااااااااا له تستحق لقب الناطقه باسم المسيح الدجا ل ,@AJABreaking النصر لاوكرانيا البطله الصامده 🔥🔥💪🇺🇦 ,@ZAINABKADYROV اللله يكون مع روسيا من ثعالب الأرض ,جرائم حرب تجري الآن في #أوكرانيا يتحمل مسؤوليتها الرئيس الروسي\\nمارك كميت المساعد السابق لوزير الخارجية الأميركي في #البعد_الآخر.\\n\\nالحلقة الكاملة: https://t.co/nhKzyFoRBi\\n\\n#روسيا_وأوكرانيا\\n@muntaharamahi https://t.co/fVffQKk9XH ,إطاله أمد الحرب قليلا (أسابيع)\\nثم صواريخ أوكرانيه (من أمريكا) تضرب عمق روسيا \\nروسيا أصلا فيها مشاكل داخليه وجزء غير قليل من الشعب ضد الغزو\\n\\nمع استمرار العقوبات الإقتصاديه\\n\\nهتسقط روسيا وتكون نهايه بوتين كهتلر\\n#روسيا_واوكرانيا أهؤلاء من أولئك   العـــــربية   العربية  '"
      ]
     },
     "execution_count": 371,
     "metadata": {},
     "output_type": "execute_result"
    }
   ],
   "source": [
    "Five_tweets_join=Five_tweets_join+\" الْعَرَبِيّةُ  \"\n",
    "strip_tashkeel(Five_tweets_join)"
   ]
  },
  {
   "cell_type": "markdown",
   "id": "0V5LD9EWVgY7",
   "metadata": {
    "id": "0V5LD9EWVgY7"
   },
   "source": [
    "## [3.9] "
   ]
  },
  {
   "cell_type": "code",
   "execution_count": 372,
   "id": "AkVzG3AWVgZA",
   "metadata": {
    "id": "AkVzG3AWVgZA"
   },
   "outputs": [],
   "source": [
    "def replace_multiple_spaces_with_a_single_space(text):\n",
    "    return re.sub(' +', ' ', text)"
   ]
  },
  {
   "cell_type": "code",
   "execution_count": 373,
   "id": "d64dab70",
   "metadata": {
    "scrolled": true
   },
   "outputs": [
    {
     "data": {
      "text/plain": [
       "'قناة الجزيرة تنقل الاحداث في اوكرانيا وكأنها تنقل احداث سوريا في السابق فبركات وفيديوهات لبنات اوكرانيا بيبكوا والمهم غاغه ومفراغه\\nهذة القناة الدجااااااااا له تستحق لقب الناطقه باسم المسيح الدجا ل ,@AJABreaking النصر لاوكرانيا البطله الصامده 🔥🔥💪🇺🇦 ,@ZAINABKADYROV اللله يكون مع روسيا من ثعالب الأرض ,جرائم حرب تجري الآن في #أوكرانيا يتحمل مسؤوليتها الرئيس الروسي\\nمارك كميت المساعد السابق لوزير الخارجية الأميركي في #البعد_الآخر.\\n\\nالحلقة الكاملة: https://t.co/nhKzyFoRBi\\n\\n#روسيا_وأوكرانيا\\n@muntaharamahi https://t.co/fVffQKk9XH ,إطاله أمد الحرب قليلاً (أسابيع)\\nثم صواريخ أوكرانيه (من أمريكا) تضرب عمق روسيا \\nروسيا أصلا فيها مشاكل داخليه وجزء غير قليل من الشعب ضد الغزو\\n\\nمع استمرار العقوبات الإقتصاديه\\n\\nهتسقط روسيا وتكون نهايه بوتين كهتلر\\n#روسيا_واوكرانيا أهؤلاء من أولئكُ العـــــربية الْعَرَبِيّةُ الْعَرَبِيّةُ '"
      ]
     },
     "execution_count": 373,
     "metadata": {},
     "output_type": "execute_result"
    }
   ],
   "source": [
    "Five_tweets_join=Five_tweets_join+\" الْعَرَبِيّةُ  \"\n",
    "replace_multiple_spaces_with_a_single_space(Five_tweets_join)"
   ]
  },
  {
   "cell_type": "markdown",
   "id": "vc96CuQStFA9",
   "metadata": {
    "id": "vc96CuQStFA9"
   },
   "source": [
    "## [3.10]"
   ]
  },
  {
   "cell_type": "code",
   "execution_count": 374,
   "id": "pCJ7itd3tJjw",
   "metadata": {
    "id": "pCJ7itd3tJjw"
   },
   "outputs": [],
   "source": [
    "def Frequency__tweet(list_tweet):\n",
    "    Frequency_tweet = nltk.FreqDist(list_tweet)\n",
    "    return pd.DataFrame( Frequency_tweet.most_common(15), columns=['tweet', 'Frequency'])\n",
    "def delete_Frequency__tweet(list_tweet):\n",
    "    return set(list_tweet)"
   ]
  },
  {
   "cell_type": "code",
   "execution_count": 377,
   "id": "61d4f26a",
   "metadata": {},
   "outputs": [],
   "source": [
    "# delete_Frequency__tweet(list_tweet)"
   ]
  },
  {
   "cell_type": "markdown",
   "id": "exdhuH6GtLez",
   "metadata": {
    "id": "exdhuH6GtLez"
   },
   "source": [
    "## Extra"
   ]
  },
  {
   "cell_type": "code",
   "execution_count": null,
   "id": "_UOzIn6-tKlJ",
   "metadata": {
    "id": "_UOzIn6-tKlJ"
   },
   "outputs": [],
   "source": [
    "\n"
   ]
  },
  {
   "cell_type": "markdown",
   "id": "Jp-C0ZwrS8AY",
   "metadata": {
    "id": "Jp-C0ZwrS8AY"
   },
   "source": [
    "# Step [4]: Prepare Training Data"
   ]
  },
  {
   "cell_type": "markdown",
   "id": "pwtVy8DES8AZ",
   "metadata": {
    "id": "pwtVy8DES8AZ"
   },
   "source": [
    "## [4.1] \n"
   ]
  },
  {
   "cell_type": "markdown",
   "id": "b9c515ad",
   "metadata": {
    "id": "b9c515ad"
   },
   "source": [
    "تابع المعالجة النهائي سوف يكون كالآتي"
   ]
  },
  {
   "cell_type": "code",
   "execution_count": 380,
   "id": "1747f25c",
   "metadata": {
    "id": "1747f25c"
   },
   "outputs": [],
   "source": [
    "def preprocess(text, delete_links = True, delete_mentions = True,  delete_hashtags1= True ,  delete_hashtags2= True,\n",
    "                Delete_duplicate_characters=True, standardize_number=True, delete_all_number=True, delete_punctuation_marks=True,\n",
    "                delete_imojis=True, delete_nonArabics=True, Stemming_English=True, Stemming_Arabic=True, normalize_hamza=True,\n",
    "                normalize_ALEFAT=True,  strip_tatweel=True, strip_tashkeel=True, replace_multiple_spaces_with_a_single_space=True,\n",
    "                delete_Frequency__tweet=True ):\n",
    "    \n",
    "    if delete_links:\n",
    "        text=delete_links(text)\n",
    "        \n",
    "    if delete_mentions:\n",
    "        text=delete_mentions(text)\n",
    "        \n",
    "    if delete_hashtags1:\n",
    "        text=delete_hashtags1(text)\n",
    "        \n",
    "    if delete_hashtags2:\n",
    "        text=delete_hashtags2(text)\n",
    "        \n",
    "    if Delete_duplicate_characters:\n",
    "        text=Delete_duplicate_characters(text)\n",
    "        \n",
    "    if standardize_number:\n",
    "        text=standardize_number(text)\n",
    "        \n",
    "    if delete_all_number:\n",
    "        text=delete_all_number(text)\n",
    "        \n",
    "    if delete_punctuation_marks:\n",
    "        text=delete_punctuation_marks(text)\n",
    "        \n",
    "    if delete_imojis:\n",
    "        text=delete_imojis(text)\n",
    "        \n",
    "    if delete_nonArabics:\n",
    "        text=delete_nonArabics(text)\n",
    "        \n",
    "    if Stemming_English:\n",
    "        text=Stemming_English(text)\n",
    "        \n",
    "    if Stemming_Arabic:\n",
    "        text=Stemming_Arabic(text)\n",
    "        \n",
    "    if normalize_hamza:\n",
    "        text=normalize_hamza(text)\n",
    "        \n",
    "    if normalize_ALEFAT:\n",
    "        text=normalize_ALEFAT(text)\n",
    "        \n",
    "    if strip_tatweel:\n",
    "        text=strip_tatweel(text)\n",
    "        \n",
    "    if strip_tashkeel:\n",
    "        text=strip_tashkeel(text)\n",
    "        \n",
    "    if replace_multiple_spaces_with_a_single_space:\n",
    "        text=replace_multiple_spaces_with_a_single_space(text)\n",
    "        \n",
    "    if delete_Frequency__tweet:\n",
    "        text=delete_Frequency__tweet(text)   \n",
    "\n",
    "    return text"
   ]
  },
  {
   "cell_type": "markdown",
   "id": "npObP2JLUBgw",
   "metadata": {
    "id": "npObP2JLUBgw"
   },
   "source": [
    "## [4.2] "
   ]
  },
  {
   "cell_type": "code",
   "execution_count": null,
   "id": "V_KxmQdgUBg5",
   "metadata": {
    "id": "V_KxmQdgUBg5"
   },
   "outputs": [],
   "source": [
    "# ما لحقت اعمل احصائيات \n",
    "\n"
   ]
  },
  {
   "cell_type": "markdown",
   "id": "pTIrTECWUBg5",
   "metadata": {
    "id": "pTIrTECWUBg5"
   },
   "source": [
    "## [4.3] "
   ]
  },
  {
   "cell_type": "code",
   "execution_count": null,
   "id": "OqmCKe5lUBg6",
   "metadata": {
    "id": "OqmCKe5lUBg6"
   },
   "outputs": [],
   "source": []
  },
  {
   "cell_type": "markdown",
   "id": "6v0njm5qUBg6",
   "metadata": {
    "id": "6v0njm5qUBg6"
   },
   "source": [
    "## [4.4] "
   ]
  },
  {
   "cell_type": "code",
   "execution_count": null,
   "id": "DltX5hcnUHT1",
   "metadata": {
    "id": "DltX5hcnUHT1"
   },
   "outputs": [],
   "source": []
  }
 ],
 "metadata": {
  "colab": {
   "collapsed_sections": [
    "KFerFDFqPwPI",
    "-4LEgCtvPwaQ",
    "ZgzDVRqCQ72Q",
    "qQlGbCI3Q77R",
    "hIwnQVuas5hE",
    "7orTRN5vs9vp",
    "cwaCNfS9RNZc",
    "MbJeF_CxRNZd",
    "GY-HhD2YRNZe",
    "KV9D86kbRNZe",
    "3fM_FPldSCxp",
    "N2z1KmQXSAFs",
    "fCBHc2y6SAL5",
    "P1aLjPbzRNZe",
    "dbqN7BceSRhS",
    "rad8wPeSSRhU",
    "FbIUIkezSRhU",
    "N4WDktTgRNZf",
    "wbGPWNtoR4p-",
    "V-rCzzoMR41T",
    "iXF2L4Z-Sd3N",
    "ij5gdJA4Sd3O",
    "H6k8JnJDSd3P",
    "1TmDb343Sls9",
    "0V5LD9EWVgY7",
    "vc96CuQStFA9",
    "exdhuH6GtLez",
    "pwtVy8DES8AZ",
    "npObP2JLUBgw",
    "pTIrTECWUBg5",
    "6v0njm5qUBg6"
   ],
   "provenance": []
  },
  "kernelspec": {
   "display_name": "Python 3",
   "language": "python",
   "name": "python3"
  },
  "language_info": {
   "codemirror_mode": {
    "name": "ipython",
    "version": 3
   },
   "file_extension": ".py",
   "mimetype": "text/x-python",
   "name": "python",
   "nbconvert_exporter": "python",
   "pygments_lexer": "ipython3",
   "version": "3.8.8"
  }
 },
 "nbformat": 4,
 "nbformat_minor": 5
}
